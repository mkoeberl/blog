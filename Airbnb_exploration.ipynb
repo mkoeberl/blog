{
 "cells": [
  {
   "cell_type": "markdown",
   "metadata": {},
   "source": [
    "# Airbnb data on Vienna"
   ]
  },
  {
   "cell_type": "code",
   "execution_count": 269,
   "metadata": {},
   "outputs": [],
   "source": [
    "import gzip\n",
    "import re\n",
    "from pathlib import Path\n",
    "\n",
    "import seaborn as sns\n",
    "import tqdm\n",
    "import numpy as np\n",
    "import pandas as pd\n",
    "import requests\n",
    "from bs4 import BeautifulSoup\n",
    "import matplotlib\n",
    "import matplotlib.pyplot as plt\n",
    "%matplotlib inline"
   ]
  },
  {
   "cell_type": "code",
   "execution_count": 3,
   "metadata": {},
   "outputs": [],
   "source": [
    "from sklearn.tree import DecisionTreeClassifier, plot_tree\n",
    "from sklearn.ensemble import RandomForestClassifier\n",
    "from sklearn.metrics import accuracy_score, balanced_accuracy_score, confusion_matrix, plot_confusion_matrix\n",
    "from sklearn.model_selection import train_test_split, GridSearchCV\n",
    "from sklearn.impute import SimpleImputer\n",
    "from sklearn.decomposition import PCA\n",
    "from sklearn.preprocessing import StandardScaler"
   ]
  },
  {
   "cell_type": "markdown",
   "metadata": {},
   "source": [
    "## Interesting questions:\n",
    "- How did Covid-19 affect the availability of apartments in Vienna?\n",
    "- How did Covid-19 affect the price of apartments in Vienna?\n",
    "- Can we recognize whether a host is a superhost from their listing?"
   ]
  },
  {
   "cell_type": "markdown",
   "metadata": {},
   "source": [
    "## Getting data"
   ]
  },
  {
   "cell_type": "code",
   "execution_count": 10,
   "metadata": {},
   "outputs": [],
   "source": [
    "r = requests.get('http://insideairbnb.com/get-the-data.html')\n",
    "bs = BeautifulSoup(r.content,'html.parser')"
   ]
  },
  {
   "cell_type": "code",
   "execution_count": null,
   "metadata": {},
   "outputs": [],
   "source": [
    "for a_tag in bs.find('table', class_='vienna').find_all('a'):\n",
    "    link = a_tag['href']\n",
    "    date = re.findall('\\d{4}-\\d{2}-\\d{2}',link)[0]\n",
    "    file_name = link.split('/')[-1]\n",
    "    if file_name[-2:]=='gz' and int(date[:4])>=2019:\n",
    "        r = requests.get(link)\n",
    "        file = gzip.decompress(r.content).decode()\n",
    "        with open('data/'+date+'_'+file_name[:-3],'w') as f:\n",
    "            f.write(file)"
   ]
  },
  {
   "cell_type": "markdown",
   "metadata": {},
   "source": [
    "# Availability effects because of Covid-19\n",
    "How did Covid-19 affect the availability of apartments in Vienna? Normally we expect the availability for a given day to go down as the day comes closer but with Covid-19, does it go up?\n",
    "What data do we have? We use the calendar data from Inside Airbnb, where approximately once a month the availability, the price and adjusted price for the next 365 days for each listing are crawled.\n",
    "We have snapshots from 22 February 2020 and 17 March 2020. Note that many measures to restrict Covid-19's spread in Austria were announced and came into effect in the first half of March (travel restrictions, curfew etc.), so we should see some effect in the data from March compared to February."
   ]
  },
  {
   "cell_type": "code",
   "execution_count": 166,
   "metadata": {},
   "outputs": [],
   "source": [
    "calendar_2002 = pd.read_csv('data/2020-02-22_calendar.csv')"
   ]
  },
  {
   "cell_type": "code",
   "execution_count": 167,
   "metadata": {},
   "outputs": [
    {
     "data": {
      "text/html": [
       "<div>\n",
       "<style scoped>\n",
       "    .dataframe tbody tr th:only-of-type {\n",
       "        vertical-align: middle;\n",
       "    }\n",
       "\n",
       "    .dataframe tbody tr th {\n",
       "        vertical-align: top;\n",
       "    }\n",
       "\n",
       "    .dataframe thead th {\n",
       "        text-align: right;\n",
       "    }\n",
       "</style>\n",
       "<table border=\"1\" class=\"dataframe\">\n",
       "  <thead>\n",
       "    <tr style=\"text-align: right;\">\n",
       "      <th></th>\n",
       "      <th>listing_id</th>\n",
       "      <th>date</th>\n",
       "      <th>available</th>\n",
       "      <th>price</th>\n",
       "      <th>adjusted_price</th>\n",
       "      <th>minimum_nights</th>\n",
       "      <th>maximum_nights</th>\n",
       "    </tr>\n",
       "  </thead>\n",
       "  <tbody>\n",
       "    <tr>\n",
       "      <th>0</th>\n",
       "      <td>15883</td>\n",
       "      <td>2020-02-22</td>\n",
       "      <td>f</td>\n",
       "      <td>$87.00</td>\n",
       "      <td>$87.00</td>\n",
       "      <td>1</td>\n",
       "      <td>999</td>\n",
       "    </tr>\n",
       "    <tr>\n",
       "      <th>1</th>\n",
       "      <td>212649</td>\n",
       "      <td>2020-02-22</td>\n",
       "      <td>f</td>\n",
       "      <td>$45.00</td>\n",
       "      <td>$45.00</td>\n",
       "      <td>2</td>\n",
       "      <td>60</td>\n",
       "    </tr>\n",
       "    <tr>\n",
       "      <th>2</th>\n",
       "      <td>212649</td>\n",
       "      <td>2020-02-23</td>\n",
       "      <td>f</td>\n",
       "      <td>$45.00</td>\n",
       "      <td>$45.00</td>\n",
       "      <td>2</td>\n",
       "      <td>60</td>\n",
       "    </tr>\n",
       "    <tr>\n",
       "      <th>3</th>\n",
       "      <td>212649</td>\n",
       "      <td>2020-02-24</td>\n",
       "      <td>f</td>\n",
       "      <td>$45.00</td>\n",
       "      <td>$45.00</td>\n",
       "      <td>2</td>\n",
       "      <td>60</td>\n",
       "    </tr>\n",
       "    <tr>\n",
       "      <th>4</th>\n",
       "      <td>212649</td>\n",
       "      <td>2020-02-25</td>\n",
       "      <td>f</td>\n",
       "      <td>$45.00</td>\n",
       "      <td>$45.00</td>\n",
       "      <td>2</td>\n",
       "      <td>60</td>\n",
       "    </tr>\n",
       "  </tbody>\n",
       "</table>\n",
       "</div>"
      ],
      "text/plain": [
       "   listing_id        date available   price adjusted_price  minimum_nights  \\\n",
       "0       15883  2020-02-22         f  $87.00         $87.00               1   \n",
       "1      212649  2020-02-22         f  $45.00         $45.00               2   \n",
       "2      212649  2020-02-23         f  $45.00         $45.00               2   \n",
       "3      212649  2020-02-24         f  $45.00         $45.00               2   \n",
       "4      212649  2020-02-25         f  $45.00         $45.00               2   \n",
       "\n",
       "   maximum_nights  \n",
       "0             999  \n",
       "1              60  \n",
       "2              60  \n",
       "3              60  \n",
       "4              60  "
      ]
     },
     "execution_count": 167,
     "metadata": {},
     "output_type": "execute_result"
    }
   ],
   "source": [
    "calendar_2002.head()"
   ]
  },
  {
   "cell_type": "code",
   "execution_count": 169,
   "metadata": {},
   "outputs": [
    {
     "name": "stdout",
     "output_type": "stream",
     "text": [
      "<class 'pandas.core.frame.DataFrame'>\n",
      "RangeIndex: 4804130 entries, 0 to 4804129\n",
      "Data columns (total 7 columns):\n",
      " #   Column          Non-Null Count    Dtype \n",
      "---  ------          --------------    ----- \n",
      " 0   listing_id      4804130 non-null  int64 \n",
      " 1   date            4804130 non-null  object\n",
      " 2   available       4804130 non-null  object\n",
      " 3   price           4804130 non-null  object\n",
      " 4   adjusted_price  4804130 non-null  object\n",
      " 5   minimum_nights  4804130 non-null  int64 \n",
      " 6   maximum_nights  4804130 non-null  int64 \n",
      "dtypes: int64(3), object(4)\n",
      "memory usage: 256.6+ MB\n"
     ]
    }
   ],
   "source": [
    "calendar_2002.info(null_counts=True, verbose=True)"
   ]
  },
  {
   "cell_type": "markdown",
   "metadata": {},
   "source": [
    "So we need to convert date to a timestamp, availability to a boolean variable and convert price and adjusted_price to a float."
   ]
  },
  {
   "cell_type": "code",
   "execution_count": 43,
   "metadata": {},
   "outputs": [],
   "source": [
    "def preprocess_calendar(calendar):\n",
    "    calendar['date'] = pd.to_datetime(calendar['date'])\n",
    "    calendar['available'] = calendar['available'].str.replace(\"f\",\"\").astype(bool)\n",
    "    calendar['price'] = calendar['price'].str.replace('$','').str.replace(',','').astype(float)\n",
    "    calendar['adjusted_price'] = calendar['adjusted_price'].str.replace('$','').str.replace(',','').astype(float)\n",
    "    return calendar"
   ]
  },
  {
   "cell_type": "code",
   "execution_count": 171,
   "metadata": {},
   "outputs": [],
   "source": [
    "calendar_2002 = preprocess_calendar(calendar_2002)"
   ]
  },
  {
   "cell_type": "markdown",
   "metadata": {},
   "source": [
    "Let's look at the average availability per night."
   ]
  },
  {
   "cell_type": "code",
   "execution_count": 174,
   "metadata": {},
   "outputs": [
    {
     "data": {
      "image/png": "[encoded data removed]",
      "text/plain": [
       "<Figure size 1440x720 with 1 Axes>"
      ]
     },
     "metadata": {
      "needs_background": "light"
     },
     "output_type": "display_data"
    }
   ],
   "source": [
    "plt.figure(figsize=(20,10))\n",
    "calendar_2002.groupby(\"date\")['available'].mean().plot();"
   ]
  },
  {
   "cell_type": "markdown",
   "metadata": {},
   "source": [
    "There seems to be a weekly pattern (business people being more likely to travel during the week, while people coming for leisure on and around weekends). We see that availability goes down on most weekends (as compared to during the weeks).\n",
    "To see the long-term pattern, it might make sense to look at the rolling average (7 days) instead:"
   ]
  },
  {
   "cell_type": "code",
   "execution_count": 177,
   "metadata": {},
   "outputs": [
    {
     "data": {
      "image/png": "[encoded data removed]",
      "text/plain": [
       "<Figure size 1440x720 with 1 Axes>"
      ]
     },
     "metadata": {
      "needs_background": "light"
     },
     "output_type": "display_data"
    }
   ],
   "source": [
    "plt.figure(figsize=(20,10))\n",
    "calendar_2002.groupby(\"date\")['available'].mean().rolling(7).mean().plot();"
   ]
  },
  {
   "cell_type": "markdown",
   "metadata": {},
   "source": [
    "We see that for the very near future (as of mid-february) availability is really low (around 20 %) and then goes up until mid-march where it has another low (for which I don't have an explanation). After that we have many bookings for Easter (12th April) and then for the holidays in May (1st of May, then ascension). Pentecoste and Corpus Christi seem still too far away yet to have a noticeable effect and availability steadily increases until a sharp decline at the end of August. Note that this date is pretty exactly half a year away from the day the calendar was updated, so most likely has nothing to do with the availability in Vienna but is due to the fact that hosts haven't updated their calendar yet for when their apartment is available. What is noticeable though and not an artifact most likely is another dip in availability at the beginning of 2021 which most likely is caused by people spending New Year's Eve or the days around that date in Vienna."
   ]
  },
  {
   "cell_type": "markdown",
   "metadata": {},
   "source": [
    "## How did the availability situation change because of Covid-19?"
   ]
  },
  {
   "cell_type": "markdown",
   "metadata": {},
   "source": [
    "For that we are going to compare the booking calendars from February to that of March."
   ]
  },
  {
   "cell_type": "code",
   "execution_count": 206,
   "metadata": {},
   "outputs": [],
   "source": [
    "calendar_2002 = pd.read_csv('data/2020-02-22_calendar.csv')"
   ]
  },
  {
   "cell_type": "code",
   "execution_count": 207,
   "metadata": {},
   "outputs": [],
   "source": [
    "calendar_2003 = pd.read_csv('data/2020-03-17_calendar.csv')"
   ]
  },
  {
   "cell_type": "code",
   "execution_count": null,
   "metadata": {},
   "outputs": [],
   "source": [
    "calendar_2002 = preprocess_calendar(calendar_2002)\n",
    "claendar_2003 = preprocess_calendar(calendar_2003)"
   ]
  },
  {
   "cell_type": "code",
   "execution_count": 211,
   "metadata": {},
   "outputs": [
    {
     "data": {
      "image/png": "[encoded data removed]",
      "text/plain": [
       "<Figure size 1440x720 with 1 Axes>"
      ]
     },
     "metadata": {
      "needs_background": "light"
     },
     "output_type": "display_data"
    }
   ],
   "source": [
    "plt.figure(figsize=(20,10))\n",
    "calendar_2002.groupby(\"date\")['available'].mean().rolling(7).mean().plot(label = '22 February 2020')\n",
    "calendar_2003.groupby(\"date\")['available'].mean().rolling(7).mean().plot(label='17 March 2020')\n",
    "plt.legend()\n",
    "plt.ylabel('Availability')\n",
    "plt.xlabel('Date')\n",
    "plt.title('Availability of apartments on Airbnb for a certain date as of different snapshot dates');"
   ]
  },
  {
   "cell_type": "markdown",
   "metadata": {},
   "source": [
    "We see that as of 17 March many more places were available via Airbnb than as of 22 February. For example for Easter (12 April), the avilability is around 15 % higher than it was in Mid-February. The discrepancies starting around the end of May do seem to have the same reason as the ones in September and in December: hosts not having up-to-date calendars (maybe because of strategy so availability seems higher than it is). We thus assume that the strong noticeable effect of mass cancellations ceases in May, but note that the availability in May as of mid-march is approximately the same as of Mid-February."
   ]
  },
  {
   "cell_type": "markdown",
   "metadata": {},
   "source": [
    "Compare to last year:"
   ]
  },
  {
   "cell_type": "code",
   "execution_count": 280,
   "metadata": {},
   "outputs": [],
   "source": [
    "calendar_1902 = preprocess_calendar(pd.read_csv('data/2019-02-09_calendar.csv'))"
   ]
  },
  {
   "cell_type": "code",
   "execution_count": 281,
   "metadata": {},
   "outputs": [],
   "source": [
    "calendar_1903 = preprocess_calendar(pd.read_csv('data/2019-03-11_calendar.csv'))"
   ]
  },
  {
   "cell_type": "code",
   "execution_count": 282,
   "metadata": {},
   "outputs": [
    {
     "data": {
      "image/png": "[encoded data removed]",
      "text/plain": [
       "<Figure size 1440x720 with 1 Axes>"
      ]
     },
     "metadata": {
      "needs_background": "light"
     },
     "output_type": "display_data"
    }
   ],
   "source": [
    "plt.figure(figsize=(20,10))\n",
    "calendar_1902.groupby(\"date\")['available'].mean().rolling(7).mean().plot(label='9 February 2019')\n",
    "calendar_1903.groupby(\"date\")['available'].mean().rolling(7).mean().plot(label='12 March 2019')\n",
    "calendar_1902.groupby(\"date\")['available'].mean().rolling(7).mean().plot(label='9 February 2019')\n",
    "calendar_1903.groupby(\"date\")['available'].mean().rolling(7).mean().plot(label='12 March 2019')\n",
    "plt.legend()\n",
    "plt.ylabel('Availability')\n",
    "plt.xlabel('Date')\n",
    "plt.title('Availability of apartments on Airbnb for a certain date as of different snapshot dates');"
   ]
  },
  {
   "cell_type": "markdown",
   "metadata": {},
   "source": [
    "Compare above plot to the plot here, showing availability as of mid-February and mid-march 2019. We see that the availability for Easter as of March is only a little over 15 %, more than 15% below the availability as of February. After that date the availability starts rising but the February availability stays well below the March availability. The crossing of the lines in mid-may most likely is again caused by a data artifact, note that the steep decline in availability in the February data appears again in the March data one month later."
   ]
  },
  {
   "cell_type": "markdown",
   "metadata": {},
   "source": [
    "# Price changes because of Covid-19?"
   ]
  },
  {
   "cell_type": "markdown",
   "metadata": {},
   "source": [
    "How did Covid-19 affect prices for accommodations? We assume the following:\n",
    "- Price: base price for an apartment\n",
    "- adjusted price: price you pay if you book on the snapshot date\n",
    "\n",
    "We assume the pricing model follows a supply-demand model where higher availability means lower prices, where the demand might be predicted by some Airbnb model."
   ]
  },
  {
   "cell_type": "code",
   "execution_count": 212,
   "metadata": {},
   "outputs": [],
   "source": [
    "calendar_2003_short= calendar_2003[calendar_2003['date']<pd.to_datetime('2020-06-30')].copy()\n",
    "calendar_2002_short = calendar_2002[calendar_2002['date']<pd.to_datetime('2020-06-30')].copy()"
   ]
  },
  {
   "cell_type": "code",
   "execution_count": 44,
   "metadata": {},
   "outputs": [],
   "source": [
    "def join_calendars(calendar_1, calendar_2, suffix_1, suffix_2):\n",
    "    \"\"\"\n",
    "    join two calendars on date and listing id\n",
    "    \"\"\"\n",
    "    calendar_1['join_key'] = calendar_1.apply(lambda x: str(x['listing_id'])+str(x['date']), axis=1)\n",
    "    calendar_2['join_key'] = calendar_2.apply(lambda x: str(x['listing_id'])+str(x['date']), axis=1)\n",
    "    calendar_join = pd.merge(left=calendar_1, right=calendar_2[['join_key','available','adjusted_price']], on = 'join_key', suffixes=(suffix_1,suffix_2))\n",
    "    calendar_join.drop(columns=['join_key'], inplace=True)\n",
    "    return calendar_join"
   ]
  },
  {
   "cell_type": "code",
   "execution_count": 223,
   "metadata": {},
   "outputs": [],
   "source": [
    "calendar_20_join = join_calendars(calendar_2002_short, calendar_2003_short, \"_feb\",\"_mar\")"
   ]
  },
  {
   "cell_type": "code",
   "execution_count": 224,
   "metadata": {},
   "outputs": [
    {
     "data": {
      "text/html": [
       "<div>\n",
       "<style scoped>\n",
       "    .dataframe tbody tr th:only-of-type {\n",
       "        vertical-align: middle;\n",
       "    }\n",
       "\n",
       "    .dataframe tbody tr th {\n",
       "        vertical-align: top;\n",
       "    }\n",
       "\n",
       "    .dataframe thead th {\n",
       "        text-align: right;\n",
       "    }\n",
       "</style>\n",
       "<table border=\"1\" class=\"dataframe\">\n",
       "  <thead>\n",
       "    <tr style=\"text-align: right;\">\n",
       "      <th></th>\n",
       "      <th>listing_id</th>\n",
       "      <th>date</th>\n",
       "      <th>available_feb</th>\n",
       "      <th>price</th>\n",
       "      <th>adjusted_price_feb</th>\n",
       "      <th>minimum_nights</th>\n",
       "      <th>maximum_nights</th>\n",
       "      <th>available_mar</th>\n",
       "      <th>adjusted_price_mar</th>\n",
       "    </tr>\n",
       "  </thead>\n",
       "  <tbody>\n",
       "    <tr>\n",
       "      <th>0</th>\n",
       "      <td>212649</td>\n",
       "      <td>2020-03-17</td>\n",
       "      <td>False</td>\n",
       "      <td>45.0</td>\n",
       "      <td>45.0</td>\n",
       "      <td>2</td>\n",
       "      <td>60</td>\n",
       "      <td>False</td>\n",
       "      <td>45.0</td>\n",
       "    </tr>\n",
       "    <tr>\n",
       "      <th>1</th>\n",
       "      <td>212649</td>\n",
       "      <td>2020-03-18</td>\n",
       "      <td>False</td>\n",
       "      <td>45.0</td>\n",
       "      <td>45.0</td>\n",
       "      <td>2</td>\n",
       "      <td>60</td>\n",
       "      <td>True</td>\n",
       "      <td>45.0</td>\n",
       "    </tr>\n",
       "    <tr>\n",
       "      <th>2</th>\n",
       "      <td>212649</td>\n",
       "      <td>2020-03-19</td>\n",
       "      <td>False</td>\n",
       "      <td>45.0</td>\n",
       "      <td>45.0</td>\n",
       "      <td>2</td>\n",
       "      <td>60</td>\n",
       "      <td>True</td>\n",
       "      <td>45.0</td>\n",
       "    </tr>\n",
       "    <tr>\n",
       "      <th>3</th>\n",
       "      <td>212649</td>\n",
       "      <td>2020-03-20</td>\n",
       "      <td>False</td>\n",
       "      <td>45.0</td>\n",
       "      <td>45.0</td>\n",
       "      <td>2</td>\n",
       "      <td>60</td>\n",
       "      <td>True</td>\n",
       "      <td>45.0</td>\n",
       "    </tr>\n",
       "    <tr>\n",
       "      <th>4</th>\n",
       "      <td>212649</td>\n",
       "      <td>2020-03-21</td>\n",
       "      <td>False</td>\n",
       "      <td>45.0</td>\n",
       "      <td>45.0</td>\n",
       "      <td>2</td>\n",
       "      <td>60</td>\n",
       "      <td>True</td>\n",
       "      <td>45.0</td>\n",
       "    </tr>\n",
       "    <tr>\n",
       "      <th>...</th>\n",
       "      <td>...</td>\n",
       "      <td>...</td>\n",
       "      <td>...</td>\n",
       "      <td>...</td>\n",
       "      <td>...</td>\n",
       "      <td>...</td>\n",
       "      <td>...</td>\n",
       "      <td>...</td>\n",
       "      <td>...</td>\n",
       "    </tr>\n",
       "    <tr>\n",
       "      <th>1333616</th>\n",
       "      <td>42456061</td>\n",
       "      <td>2020-06-25</td>\n",
       "      <td>True</td>\n",
       "      <td>65.0</td>\n",
       "      <td>65.0</td>\n",
       "      <td>1</td>\n",
       "      <td>1125</td>\n",
       "      <td>True</td>\n",
       "      <td>66.0</td>\n",
       "    </tr>\n",
       "    <tr>\n",
       "      <th>1333617</th>\n",
       "      <td>42456061</td>\n",
       "      <td>2020-06-26</td>\n",
       "      <td>True</td>\n",
       "      <td>65.0</td>\n",
       "      <td>65.0</td>\n",
       "      <td>1</td>\n",
       "      <td>1125</td>\n",
       "      <td>True</td>\n",
       "      <td>75.0</td>\n",
       "    </tr>\n",
       "    <tr>\n",
       "      <th>1333618</th>\n",
       "      <td>42456061</td>\n",
       "      <td>2020-06-27</td>\n",
       "      <td>True</td>\n",
       "      <td>65.0</td>\n",
       "      <td>65.0</td>\n",
       "      <td>1</td>\n",
       "      <td>1125</td>\n",
       "      <td>True</td>\n",
       "      <td>75.0</td>\n",
       "    </tr>\n",
       "    <tr>\n",
       "      <th>1333619</th>\n",
       "      <td>42456061</td>\n",
       "      <td>2020-06-28</td>\n",
       "      <td>True</td>\n",
       "      <td>65.0</td>\n",
       "      <td>65.0</td>\n",
       "      <td>1</td>\n",
       "      <td>1125</td>\n",
       "      <td>True</td>\n",
       "      <td>60.0</td>\n",
       "    </tr>\n",
       "    <tr>\n",
       "      <th>1333620</th>\n",
       "      <td>42456061</td>\n",
       "      <td>2020-06-29</td>\n",
       "      <td>True</td>\n",
       "      <td>65.0</td>\n",
       "      <td>65.0</td>\n",
       "      <td>1</td>\n",
       "      <td>1125</td>\n",
       "      <td>True</td>\n",
       "      <td>57.0</td>\n",
       "    </tr>\n",
       "  </tbody>\n",
       "</table>\n",
       "<p>1333621 rows × 9 columns</p>\n",
       "</div>"
      ],
      "text/plain": [
       "         listing_id       date  available_feb  price  adjusted_price_feb  \\\n",
       "0            212649 2020-03-17          False   45.0                45.0   \n",
       "1            212649 2020-03-18          False   45.0                45.0   \n",
       "2            212649 2020-03-19          False   45.0                45.0   \n",
       "3            212649 2020-03-20          False   45.0                45.0   \n",
       "4            212649 2020-03-21          False   45.0                45.0   \n",
       "...             ...        ...            ...    ...                 ...   \n",
       "1333616    42456061 2020-06-25           True   65.0                65.0   \n",
       "1333617    42456061 2020-06-26           True   65.0                65.0   \n",
       "1333618    42456061 2020-06-27           True   65.0                65.0   \n",
       "1333619    42456061 2020-06-28           True   65.0                65.0   \n",
       "1333620    42456061 2020-06-29           True   65.0                65.0   \n",
       "\n",
       "         minimum_nights  maximum_nights  available_mar  adjusted_price_mar  \n",
       "0                     2              60          False                45.0  \n",
       "1                     2              60           True                45.0  \n",
       "2                     2              60           True                45.0  \n",
       "3                     2              60           True                45.0  \n",
       "4                     2              60           True                45.0  \n",
       "...                 ...             ...            ...                 ...  \n",
       "1333616               1            1125           True                66.0  \n",
       "1333617               1            1125           True                75.0  \n",
       "1333618               1            1125           True                75.0  \n",
       "1333619               1            1125           True                60.0  \n",
       "1333620               1            1125           True                57.0  \n",
       "\n",
       "[1333621 rows x 9 columns]"
      ]
     },
     "execution_count": 224,
     "metadata": {},
     "output_type": "execute_result"
    }
   ],
   "source": [
    "calendar_20_join"
   ]
  },
  {
   "cell_type": "code",
   "execution_count": 225,
   "metadata": {},
   "outputs": [
    {
     "data": {
      "text/plain": [
       "(81496, 9)"
      ]
     },
     "execution_count": 225,
     "metadata": {},
     "output_type": "execute_result"
    }
   ],
   "source": [
    "calendar_20_join[calendar_20_join['adjusted_price_feb']<calendar_20_join['adjusted_price_mar']].shape"
   ]
  },
  {
   "cell_type": "code",
   "execution_count": 226,
   "metadata": {},
   "outputs": [
    {
     "data": {
      "text/plain": [
       "(238637, 9)"
      ]
     },
     "execution_count": 226,
     "metadata": {},
     "output_type": "execute_result"
    }
   ],
   "source": [
    "calendar_20_join[calendar_20_join['adjusted_price_mar']<calendar_20_join['adjusted_price_feb']].shape"
   ]
  },
  {
   "cell_type": "code",
   "execution_count": 230,
   "metadata": {},
   "outputs": [
    {
     "data": {
      "text/html": [
       "<div>\n",
       "<style scoped>\n",
       "    .dataframe tbody tr th:only-of-type {\n",
       "        vertical-align: middle;\n",
       "    }\n",
       "\n",
       "    .dataframe tbody tr th {\n",
       "        vertical-align: top;\n",
       "    }\n",
       "\n",
       "    .dataframe thead th {\n",
       "        text-align: right;\n",
       "    }\n",
       "</style>\n",
       "<table border=\"1\" class=\"dataframe\">\n",
       "  <thead>\n",
       "    <tr style=\"text-align: right;\">\n",
       "      <th></th>\n",
       "      <th></th>\n",
       "      <th>adjusted_price_feb</th>\n",
       "      <th>adjusted_price_mar</th>\n",
       "    </tr>\n",
       "    <tr>\n",
       "      <th>available_feb</th>\n",
       "      <th>available_mar</th>\n",
       "      <th></th>\n",
       "      <th></th>\n",
       "    </tr>\n",
       "  </thead>\n",
       "  <tbody>\n",
       "    <tr>\n",
       "      <th rowspan=\"2\" valign=\"top\">False</th>\n",
       "      <th>False</th>\n",
       "      <td>72.312869</td>\n",
       "      <td>75.304768</td>\n",
       "    </tr>\n",
       "    <tr>\n",
       "      <th>True</th>\n",
       "      <td>83.312231</td>\n",
       "      <td>81.012518</td>\n",
       "    </tr>\n",
       "    <tr>\n",
       "      <th rowspan=\"2\" valign=\"top\">True</th>\n",
       "      <th>False</th>\n",
       "      <td>88.435795</td>\n",
       "      <td>105.541358</td>\n",
       "    </tr>\n",
       "    <tr>\n",
       "      <th>True</th>\n",
       "      <td>99.488356</td>\n",
       "      <td>94.872347</td>\n",
       "    </tr>\n",
       "  </tbody>\n",
       "</table>\n",
       "</div>"
      ],
      "text/plain": [
       "                             adjusted_price_feb  adjusted_price_mar\n",
       "available_feb available_mar                                        \n",
       "False         False                   72.312869           75.304768\n",
       "              True                    83.312231           81.012518\n",
       "True          False                   88.435795          105.541358\n",
       "              True                    99.488356           94.872347"
      ]
     },
     "execution_count": 230,
     "metadata": {},
     "output_type": "execute_result"
    }
   ],
   "source": [
    "calendar_20_join.groupby(['available_feb','available_mar'])[['adjusted_price_feb','adjusted_price_mar']].mean()"
   ]
  },
  {
   "cell_type": "code",
   "execution_count": null,
   "metadata": {},
   "outputs": [],
   "source": [
    "mask = calendar_20_join['available_feb'] & calendar_join['available_mar']\n",
    "plt.figure(figsize=(20,10))\n",
    "calendar_20_join[mask].groupby('date')['adjusted_price_feb'].median().rolling(7).mean().plot(label='22 February 2020', color='blue')\n",
    "calendar_20_join[mask].groupby('date')['adjusted_price_mar'].median().rolling(7).mean().plot(label='17 March 2020', color='orange')\n",
    "plt.legend()\n",
    "plt.ylabel('Price [USD]')\n",
    "plt.xlabel('Date')\n",
    "plt.title('Rolling average (7 days) of median price for a given date on a given snapshot date (only for listings available on all snapshot dates)');"
   ]
  },
  {
   "cell_type": "markdown",
   "metadata": {},
   "source": [
    "We see that for the second half of march the price in March lies almost 10 USD below the price from February. The difference gradually gets smaller until around the beginning of May the differences are negligible.\n",
    "\n",
    "Compare this to the last year:"
   ]
  },
  {
   "cell_type": "code",
   "execution_count": 236,
   "metadata": {},
   "outputs": [],
   "source": [
    "calendar_1903_short= calendar_1903[calendar_1903['date']<pd.to_datetime('2019-06-30')].copy()\n",
    "calendar_1902_short = calendar_1902[calendar_1902['date']<pd.to_datetime('2019-06-30')].copy()"
   ]
  },
  {
   "cell_type": "code",
   "execution_count": 237,
   "metadata": {},
   "outputs": [],
   "source": [
    "calendar_19_join = join_calendars(calendar_1902_short, calendar_1903_short, \"_feb\",\"_mar\")"
   ]
  },
  {
   "cell_type": "code",
   "execution_count": 238,
   "metadata": {},
   "outputs": [
    {
     "data": {
      "text/html": [
       "<div>\n",
       "<style scoped>\n",
       "    .dataframe tbody tr th:only-of-type {\n",
       "        vertical-align: middle;\n",
       "    }\n",
       "\n",
       "    .dataframe tbody tr th {\n",
       "        vertical-align: top;\n",
       "    }\n",
       "\n",
       "    .dataframe thead th {\n",
       "        text-align: right;\n",
       "    }\n",
       "</style>\n",
       "<table border=\"1\" class=\"dataframe\">\n",
       "  <thead>\n",
       "    <tr style=\"text-align: right;\">\n",
       "      <th></th>\n",
       "      <th>listing_id</th>\n",
       "      <th>date</th>\n",
       "      <th>available_feb</th>\n",
       "      <th>price</th>\n",
       "      <th>adjusted_price_feb</th>\n",
       "      <th>minimum_nights</th>\n",
       "      <th>maximum_nights</th>\n",
       "      <th>available_mar</th>\n",
       "      <th>adjusted_price_mar</th>\n",
       "    </tr>\n",
       "  </thead>\n",
       "  <tbody>\n",
       "    <tr>\n",
       "      <th>0</th>\n",
       "      <td>2309</td>\n",
       "      <td>2019-03-11</td>\n",
       "      <td>False</td>\n",
       "      <td>80.0</td>\n",
       "      <td>80.0</td>\n",
       "      <td>4</td>\n",
       "      <td>365</td>\n",
       "      <td>False</td>\n",
       "      <td>80.0</td>\n",
       "    </tr>\n",
       "    <tr>\n",
       "      <th>1</th>\n",
       "      <td>2309</td>\n",
       "      <td>2019-03-12</td>\n",
       "      <td>False</td>\n",
       "      <td>80.0</td>\n",
       "      <td>80.0</td>\n",
       "      <td>4</td>\n",
       "      <td>365</td>\n",
       "      <td>False</td>\n",
       "      <td>80.0</td>\n",
       "    </tr>\n",
       "    <tr>\n",
       "      <th>2</th>\n",
       "      <td>2309</td>\n",
       "      <td>2019-03-13</td>\n",
       "      <td>False</td>\n",
       "      <td>80.0</td>\n",
       "      <td>80.0</td>\n",
       "      <td>4</td>\n",
       "      <td>365</td>\n",
       "      <td>False</td>\n",
       "      <td>80.0</td>\n",
       "    </tr>\n",
       "    <tr>\n",
       "      <th>3</th>\n",
       "      <td>2309</td>\n",
       "      <td>2019-03-14</td>\n",
       "      <td>False</td>\n",
       "      <td>80.0</td>\n",
       "      <td>80.0</td>\n",
       "      <td>4</td>\n",
       "      <td>365</td>\n",
       "      <td>False</td>\n",
       "      <td>80.0</td>\n",
       "    </tr>\n",
       "    <tr>\n",
       "      <th>4</th>\n",
       "      <td>2309</td>\n",
       "      <td>2019-03-15</td>\n",
       "      <td>False</td>\n",
       "      <td>80.0</td>\n",
       "      <td>80.0</td>\n",
       "      <td>4</td>\n",
       "      <td>365</td>\n",
       "      <td>False</td>\n",
       "      <td>80.0</td>\n",
       "    </tr>\n",
       "    <tr>\n",
       "      <th>...</th>\n",
       "      <td>...</td>\n",
       "      <td>...</td>\n",
       "      <td>...</td>\n",
       "      <td>...</td>\n",
       "      <td>...</td>\n",
       "      <td>...</td>\n",
       "      <td>...</td>\n",
       "      <td>...</td>\n",
       "      <td>...</td>\n",
       "    </tr>\n",
       "    <tr>\n",
       "      <th>1175707</th>\n",
       "      <td>32241530</td>\n",
       "      <td>2019-06-25</td>\n",
       "      <td>True</td>\n",
       "      <td>49.0</td>\n",
       "      <td>49.0</td>\n",
       "      <td>1</td>\n",
       "      <td>1125</td>\n",
       "      <td>True</td>\n",
       "      <td>59.0</td>\n",
       "    </tr>\n",
       "    <tr>\n",
       "      <th>1175708</th>\n",
       "      <td>32241530</td>\n",
       "      <td>2019-06-26</td>\n",
       "      <td>True</td>\n",
       "      <td>49.0</td>\n",
       "      <td>49.0</td>\n",
       "      <td>1</td>\n",
       "      <td>1125</td>\n",
       "      <td>True</td>\n",
       "      <td>59.0</td>\n",
       "    </tr>\n",
       "    <tr>\n",
       "      <th>1175709</th>\n",
       "      <td>32241530</td>\n",
       "      <td>2019-06-27</td>\n",
       "      <td>True</td>\n",
       "      <td>49.0</td>\n",
       "      <td>49.0</td>\n",
       "      <td>1</td>\n",
       "      <td>1125</td>\n",
       "      <td>False</td>\n",
       "      <td>59.0</td>\n",
       "    </tr>\n",
       "    <tr>\n",
       "      <th>1175710</th>\n",
       "      <td>32241530</td>\n",
       "      <td>2019-06-28</td>\n",
       "      <td>True</td>\n",
       "      <td>49.0</td>\n",
       "      <td>49.0</td>\n",
       "      <td>1</td>\n",
       "      <td>1125</td>\n",
       "      <td>False</td>\n",
       "      <td>59.0</td>\n",
       "    </tr>\n",
       "    <tr>\n",
       "      <th>1175711</th>\n",
       "      <td>32241530</td>\n",
       "      <td>2019-06-29</td>\n",
       "      <td>True</td>\n",
       "      <td>49.0</td>\n",
       "      <td>49.0</td>\n",
       "      <td>1</td>\n",
       "      <td>1125</td>\n",
       "      <td>False</td>\n",
       "      <td>59.0</td>\n",
       "    </tr>\n",
       "  </tbody>\n",
       "</table>\n",
       "<p>1175712 rows × 9 columns</p>\n",
       "</div>"
      ],
      "text/plain": [
       "         listing_id       date  available_feb  price  adjusted_price_feb  \\\n",
       "0              2309 2019-03-11          False   80.0                80.0   \n",
       "1              2309 2019-03-12          False   80.0                80.0   \n",
       "2              2309 2019-03-13          False   80.0                80.0   \n",
       "3              2309 2019-03-14          False   80.0                80.0   \n",
       "4              2309 2019-03-15          False   80.0                80.0   \n",
       "...             ...        ...            ...    ...                 ...   \n",
       "1175707    32241530 2019-06-25           True   49.0                49.0   \n",
       "1175708    32241530 2019-06-26           True   49.0                49.0   \n",
       "1175709    32241530 2019-06-27           True   49.0                49.0   \n",
       "1175710    32241530 2019-06-28           True   49.0                49.0   \n",
       "1175711    32241530 2019-06-29           True   49.0                49.0   \n",
       "\n",
       "         minimum_nights  maximum_nights  available_mar  adjusted_price_mar  \n",
       "0                     4             365          False                80.0  \n",
       "1                     4             365          False                80.0  \n",
       "2                     4             365          False                80.0  \n",
       "3                     4             365          False                80.0  \n",
       "4                     4             365          False                80.0  \n",
       "...                 ...             ...            ...                 ...  \n",
       "1175707               1            1125           True                59.0  \n",
       "1175708               1            1125           True                59.0  \n",
       "1175709               1            1125          False                59.0  \n",
       "1175710               1            1125          False                59.0  \n",
       "1175711               1            1125          False                59.0  \n",
       "\n",
       "[1175712 rows x 9 columns]"
      ]
     },
     "execution_count": 238,
     "metadata": {},
     "output_type": "execute_result"
    }
   ],
   "source": [
    "calendar_19_join"
   ]
  },
  {
   "cell_type": "code",
   "execution_count": 239,
   "metadata": {},
   "outputs": [
    {
     "data": {
      "text/html": [
       "<div>\n",
       "<style scoped>\n",
       "    .dataframe tbody tr th:only-of-type {\n",
       "        vertical-align: middle;\n",
       "    }\n",
       "\n",
       "    .dataframe tbody tr th {\n",
       "        vertical-align: top;\n",
       "    }\n",
       "\n",
       "    .dataframe thead th {\n",
       "        text-align: right;\n",
       "    }\n",
       "</style>\n",
       "<table border=\"1\" class=\"dataframe\">\n",
       "  <thead>\n",
       "    <tr style=\"text-align: right;\">\n",
       "      <th></th>\n",
       "      <th></th>\n",
       "      <th>adjusted_price_feb</th>\n",
       "      <th>adjusted_price_mar</th>\n",
       "    </tr>\n",
       "    <tr>\n",
       "      <th>available_feb</th>\n",
       "      <th>available_mar</th>\n",
       "      <th></th>\n",
       "      <th></th>\n",
       "    </tr>\n",
       "  </thead>\n",
       "  <tbody>\n",
       "    <tr>\n",
       "      <th rowspan=\"2\" valign=\"top\">False</th>\n",
       "      <th>False</th>\n",
       "      <td>66.038010</td>\n",
       "      <td>65.745077</td>\n",
       "    </tr>\n",
       "    <tr>\n",
       "      <th>True</th>\n",
       "      <td>94.582877</td>\n",
       "      <td>75.657723</td>\n",
       "    </tr>\n",
       "    <tr>\n",
       "      <th rowspan=\"2\" valign=\"top\">True</th>\n",
       "      <th>False</th>\n",
       "      <td>77.621028</td>\n",
       "      <td>75.562306</td>\n",
       "    </tr>\n",
       "    <tr>\n",
       "      <th>True</th>\n",
       "      <td>99.278826</td>\n",
       "      <td>98.878268</td>\n",
       "    </tr>\n",
       "  </tbody>\n",
       "</table>\n",
       "</div>"
      ],
      "text/plain": [
       "                             adjusted_price_feb  adjusted_price_mar\n",
       "available_feb available_mar                                        \n",
       "False         False                   66.038010           65.745077\n",
       "              True                    94.582877           75.657723\n",
       "True          False                   77.621028           75.562306\n",
       "              True                    99.278826           98.878268"
      ]
     },
     "execution_count": 239,
     "metadata": {},
     "output_type": "execute_result"
    }
   ],
   "source": [
    "calendar_19_join.groupby(['available_feb','available_mar'])[['adjusted_price_feb','adjusted_price_mar']].mean()"
   ]
  },
  {
   "cell_type": "code",
   "execution_count": 241,
   "metadata": {},
   "outputs": [
    {
     "data": {
      "image/png": "[encoded data removed]",
      "text/plain": [
       "<Figure size 1440x720 with 1 Axes>"
      ]
     },
     "metadata": {
      "needs_background": "light"
     },
     "output_type": "display_data"
    }
   ],
   "source": [
    "mask = calendar_19_join['available_feb'] & calendar_join['available_mar']\n",
    "plt.figure(figsize=(20,10))\n",
    "calendar_19_join[mask].groupby('date')['adjusted_price_feb'].median().rolling(7).mean().plot(label='9 February 2019', color='blue')\n",
    "calendar_19_join[mask].groupby('date')['adjusted_price_mar'].median().rolling(7).mean().plot(label='12 March 2019', color='orange')\n",
    "plt.legend()\n",
    "plt.ylabel('Price [USD]')\n",
    "plt.xlabel('Date')\n",
    "plt.title('Rolling average (7 days) of median price for a given date on a given snapshot date (only for listings available on all snapshot dates)');"
   ]
  },
  {
   "cell_type": "markdown",
   "metadata": {},
   "source": [
    "Note that while here the prices as of March for the near future are also lower as the ones from February, the difference is only around 4 USD and starting around the start of April becomes negligible. To ensure that the effect from Covid-19 is atypical, we look at the other pairs of two successive months and the differences their."
   ]
  },
  {
   "cell_type": "code",
   "execution_count": 45,
   "metadata": {},
   "outputs": [],
   "source": [
    "dates = ['2019-01-17','2019-02-09','2019-03-11','2019-04-14','2019-05-15','2019-06-11','2019-07-13','2019-08-14','2019-09-20','2019-10-18','2019-11-19','2019-12-15','2020-01-14','2020-02-22','2020-03-17']"
   ]
  },
  {
   "cell_type": "code",
   "execution_count": 48,
   "metadata": {},
   "outputs": [
    {
     "name": "stderr",
     "output_type": "stream",
     "text": [
      "\n",
      "\n",
      "  0%|          | 0/14 [00:00<?, ?it/s]\u001b[A\u001b[A\n",
      "\n",
      "  7%|▋         | 1/14 [01:26<18:39, 86.09s/it]\u001b[A\u001b[A\n",
      "\n",
      " 14%|█▍        | 2/14 [02:53<17:17, 86.43s/it]\u001b[A\u001b[A\n",
      "\n",
      " 21%|██▏       | 3/14 [04:20<15:53, 86.67s/it]\u001b[A\u001b[A\n",
      "\n",
      " 29%|██▊       | 4/14 [05:48<14:30, 87.04s/it]\u001b[A\u001b[A\n",
      "\n",
      " 36%|███▌      | 5/14 [07:13<12:56, 86.31s/it]\u001b[A\u001b[A\n",
      "\n",
      " 43%|████▎     | 6/14 [08:41<11:36, 87.08s/it]\u001b[A\u001b[A\n",
      "\n",
      " 50%|█████     | 7/14 [10:13<10:19, 88.47s/it]\u001b[A\u001b[A\n",
      "\n",
      " 57%|█████▋    | 8/14 [11:46<08:58, 89.67s/it]\u001b[A\u001b[A\n",
      "\n",
      " 64%|██████▍   | 9/14 [13:15<07:28, 89.73s/it]\u001b[A\u001b[A\n",
      "\n",
      " 71%|███████▏  | 10/14 [14:46<06:00, 90.02s/it]\u001b[A\u001b[A\n",
      "\n",
      " 79%|███████▊  | 11/14 [16:18<04:31, 90.58s/it]\u001b[A\u001b[A\n",
      "\n",
      " 86%|████████▌ | 12/14 [17:53<03:03, 91.83s/it]\u001b[A\u001b[A\n",
      "\n",
      " 93%|█████████▎| 13/14 [19:29<01:33, 93.07s/it]\u001b[A\u001b[A\n",
      "\n",
      "100%|██████████| 14/14 [21:04<00:00, 90.34s/it]\u001b[A\u001b[A\n"
     ]
    }
   ],
   "source": [
    "difference_dct = {}\n",
    "for i in tqdm.tqdm(list(range(len(dates)-1))):\n",
    "    date_1 = dates[i]\n",
    "    date_2 = dates[i+1]\n",
    "    if i==0:\n",
    "        calendar_1 = preprocess_calendar(pd.read_csv('data/'+date_1+'_calendar.csv'))\n",
    "        calendar_1 = calendar_1[(calendar_1['date']< pd.to_datetime(date_2)+pd.to_timedelta(50,'days'))& (calendar_1['date']>= pd.to_datetime(date_2))]\n",
    "    else:\n",
    "        calendar_1 = calendar_2\n",
    "    calendar_2 = preprocess_calendar(pd.read_csv('data/'+date_2+'_calendar.csv'))\n",
    "    calendar_2 = calendar_2[calendar_2['date']< pd.to_datetime(date_2)+pd.to_timedelta(80,'days')]\n",
    "    calendar_join = join_calendars(calendar_1, calendar_2, '_'+date_1, '_'+date_2)\n",
    "    mask = calendar_join['available_'+date_1] & calendar_join['available_'+date_2]\n",
    "    differences = calendar_join[mask].groupby('date')['adjusted_price_'+date_1].median().rolling(7).mean() - calendar_join[mask].groupby('date')['adjusted_price_'+date_2].median().rolling(7).mean()\n",
    "    dct = {}\n",
    "    for j in range(1,5):\n",
    "        dct[str(j)+'_week'] = differences[pd.to_datetime(date_2)+pd.to_timedelta(7*j,'days')]\n",
    "    difference_dct[date_1]= dct"
   ]
  },
  {
   "cell_type": "code",
   "execution_count": 60,
   "metadata": {},
   "outputs": [],
   "source": [
    "difference_df = pd.DataFrame(difference_dct).T"
   ]
  },
  {
   "cell_type": "code",
   "execution_count": 62,
   "metadata": {},
   "outputs": [],
   "source": [
    "difference_df.index = pd.to_datetime(difference_df.index)"
   ]
  },
  {
   "cell_type": "code",
   "execution_count": 66,
   "metadata": {},
   "outputs": [
    {
     "data": {
      "text/html": [
       "<div>\n",
       "<style scoped>\n",
       "    .dataframe tbody tr th:only-of-type {\n",
       "        vertical-align: middle;\n",
       "    }\n",
       "\n",
       "    .dataframe tbody tr th {\n",
       "        vertical-align: top;\n",
       "    }\n",
       "\n",
       "    .dataframe thead th {\n",
       "        text-align: right;\n",
       "    }\n",
       "</style>\n",
       "<table border=\"1\" class=\"dataframe\">\n",
       "  <thead>\n",
       "    <tr style=\"text-align: right;\">\n",
       "      <th></th>\n",
       "      <th>1_week</th>\n",
       "      <th>2_week</th>\n",
       "      <th>3_week</th>\n",
       "      <th>4_week</th>\n",
       "    </tr>\n",
       "  </thead>\n",
       "  <tbody>\n",
       "    <tr>\n",
       "      <th>2019-01-17</th>\n",
       "      <td>4.000000</td>\n",
       "      <td>4.000000</td>\n",
       "      <td>3.714286</td>\n",
       "      <td>1.428571</td>\n",
       "    </tr>\n",
       "    <tr>\n",
       "      <th>2019-02-09</th>\n",
       "      <td>4.000000</td>\n",
       "      <td>2.428571</td>\n",
       "      <td>1.500000</td>\n",
       "      <td>0.428571</td>\n",
       "    </tr>\n",
       "    <tr>\n",
       "      <th>2019-03-11</th>\n",
       "      <td>1.071429</td>\n",
       "      <td>-0.285714</td>\n",
       "      <td>-1.500000</td>\n",
       "      <td>-0.571429</td>\n",
       "    </tr>\n",
       "    <tr>\n",
       "      <th>2019-04-14</th>\n",
       "      <td>4.928571</td>\n",
       "      <td>3.428571</td>\n",
       "      <td>1.500000</td>\n",
       "      <td>1.214286</td>\n",
       "    </tr>\n",
       "    <tr>\n",
       "      <th>2019-05-15</th>\n",
       "      <td>2.142857</td>\n",
       "      <td>1.000000</td>\n",
       "      <td>0.285714</td>\n",
       "      <td>0.714286</td>\n",
       "    </tr>\n",
       "    <tr>\n",
       "      <th>2019-06-11</th>\n",
       "      <td>5.142857</td>\n",
       "      <td>3.214286</td>\n",
       "      <td>3.714286</td>\n",
       "      <td>3.857143</td>\n",
       "    </tr>\n",
       "    <tr>\n",
       "      <th>2019-07-13</th>\n",
       "      <td>2.642857</td>\n",
       "      <td>2.428571</td>\n",
       "      <td>1.357143</td>\n",
       "      <td>0.857143</td>\n",
       "    </tr>\n",
       "    <tr>\n",
       "      <th>2019-08-14</th>\n",
       "      <td>4.928571</td>\n",
       "      <td>3.285714</td>\n",
       "      <td>2.928571</td>\n",
       "      <td>4.571429</td>\n",
       "    </tr>\n",
       "    <tr>\n",
       "      <th>2019-09-20</th>\n",
       "      <td>4.714286</td>\n",
       "      <td>2.428571</td>\n",
       "      <td>1.000000</td>\n",
       "      <td>1.000000</td>\n",
       "    </tr>\n",
       "    <tr>\n",
       "      <th>2019-10-18</th>\n",
       "      <td>4.428571</td>\n",
       "      <td>2.071429</td>\n",
       "      <td>1.285714</td>\n",
       "      <td>-1.071429</td>\n",
       "    </tr>\n",
       "    <tr>\n",
       "      <th>2019-11-19</th>\n",
       "      <td>6.142857</td>\n",
       "      <td>8.642857</td>\n",
       "      <td>5.285714</td>\n",
       "      <td>1.857143</td>\n",
       "    </tr>\n",
       "    <tr>\n",
       "      <th>2019-12-15</th>\n",
       "      <td>6.857143</td>\n",
       "      <td>5.285714</td>\n",
       "      <td>4.571429</td>\n",
       "      <td>3.142857</td>\n",
       "    </tr>\n",
       "    <tr>\n",
       "      <th>2020-01-14</th>\n",
       "      <td>3.928571</td>\n",
       "      <td>3.714286</td>\n",
       "      <td>1.571429</td>\n",
       "      <td>2.428571</td>\n",
       "    </tr>\n",
       "    <tr>\n",
       "      <th>2020-02-22</th>\n",
       "      <td>9.285714</td>\n",
       "      <td>8.857143</td>\n",
       "      <td>6.642857</td>\n",
       "      <td>8.571429</td>\n",
       "    </tr>\n",
       "  </tbody>\n",
       "</table>\n",
       "</div>"
      ],
      "text/plain": [
       "              1_week    2_week    3_week    4_week\n",
       "2019-01-17  4.000000  4.000000  3.714286  1.428571\n",
       "2019-02-09  4.000000  2.428571  1.500000  0.428571\n",
       "2019-03-11  1.071429 -0.285714 -1.500000 -0.571429\n",
       "2019-04-14  4.928571  3.428571  1.500000  1.214286\n",
       "2019-05-15  2.142857  1.000000  0.285714  0.714286\n",
       "2019-06-11  5.142857  3.214286  3.714286  3.857143\n",
       "2019-07-13  2.642857  2.428571  1.357143  0.857143\n",
       "2019-08-14  4.928571  3.285714  2.928571  4.571429\n",
       "2019-09-20  4.714286  2.428571  1.000000  1.000000\n",
       "2019-10-18  4.428571  2.071429  1.285714 -1.071429\n",
       "2019-11-19  6.142857  8.642857  5.285714  1.857143\n",
       "2019-12-15  6.857143  5.285714  4.571429  3.142857\n",
       "2020-01-14  3.928571  3.714286  1.571429  2.428571\n",
       "2020-02-22  9.285714  8.857143  6.642857  8.571429"
      ]
     },
     "execution_count": 66,
     "metadata": {},
     "output_type": "execute_result"
    }
   ],
   "source": [
    "difference_df"
   ]
  },
  {
   "cell_type": "code",
   "execution_count": 68,
   "metadata": {},
   "outputs": [
    {
     "data": {
      "text/plain": [
       "<Figure size 1440x720 with 0 Axes>"
      ]
     },
     "metadata": {},
     "output_type": "display_data"
    },
    {
     "data": {
      "image/png": "[encoded data removed]",
      "text/plain": [
       "<Figure size 432x288 with 1 Axes>"
      ]
     },
     "metadata": {
      "needs_background": "light"
     },
     "output_type": "display_data"
    }
   ],
   "source": [
    "plt.figure(figsize=(20,10))\n",
    "difference_df.plot();"
   ]
  },
  {
   "cell_type": "markdown",
   "metadata": {},
   "source": [
    "So we see that the differences from February to March 2020 are all larger than ever before, some of them clearly. Note that from November to December the differences are also larger than usual, presumingly because the model predicting demand for Airbnb's in Vienna didn't predict well enough how many people want to book a place for Christmas and New Year's Eve (This would explain why the 4-week-difference (i.e., prices for four weeks after 15 December 2019, which falls into the first week after the Christmas holidays, is considerably smaller than the others). To further test this theory it would make sense to look at data from 2018 and preceding years."
   ]
  },
  {
   "cell_type": "markdown",
   "metadata": {},
   "source": [
    "# Predict superhost, what are important factors\n",
    "For the last question, we want to determine whether somebody is a superhost or not from the listing. What are the important factors influencing whether somebody is a superhost?"
   ]
  },
  {
   "cell_type": "code",
   "execution_count": 113,
   "metadata": {},
   "outputs": [
    {
     "name": "stderr",
     "output_type": "stream",
     "text": [
      "/home/martin/Data_Science_ND/blog/venv/lib/python3.7/site-packages/IPython/core/interactiveshell.py:3063: DtypeWarning: Columns (62) have mixed types.Specify dtype option on import or set low_memory=False.\n",
      "  interactivity=interactivity, compiler=compiler, result=result)\n"
     ]
    }
   ],
   "source": [
    "listings = pd.read_csv(\"data/2020-03-17_listings.csv\")"
   ]
  },
  {
   "cell_type": "code",
   "execution_count": 114,
   "metadata": {},
   "outputs": [
    {
     "data": {
      "text/plain": [
       "(13224, 106)"
      ]
     },
     "execution_count": 114,
     "metadata": {},
     "output_type": "execute_result"
    }
   ],
   "source": [
    "listings.shape"
   ]
  },
  {
   "cell_type": "code",
   "execution_count": 115,
   "metadata": {},
   "outputs": [
    {
     "data": {
      "text/html": [
       "<div>\n",
       "<style scoped>\n",
       "    .dataframe tbody tr th:only-of-type {\n",
       "        vertical-align: middle;\n",
       "    }\n",
       "\n",
       "    .dataframe tbody tr th {\n",
       "        vertical-align: top;\n",
       "    }\n",
       "\n",
       "    .dataframe thead th {\n",
       "        text-align: right;\n",
       "    }\n",
       "</style>\n",
       "<table border=\"1\" class=\"dataframe\">\n",
       "  <thead>\n",
       "    <tr style=\"text-align: right;\">\n",
       "      <th></th>\n",
       "      <th>id</th>\n",
       "      <th>listing_url</th>\n",
       "      <th>scrape_id</th>\n",
       "      <th>last_scraped</th>\n",
       "      <th>name</th>\n",
       "      <th>summary</th>\n",
       "      <th>space</th>\n",
       "      <th>description</th>\n",
       "      <th>experiences_offered</th>\n",
       "      <th>neighborhood_overview</th>\n",
       "      <th>notes</th>\n",
       "      <th>transit</th>\n",
       "      <th>access</th>\n",
       "      <th>interaction</th>\n",
       "      <th>house_rules</th>\n",
       "      <th>thumbnail_url</th>\n",
       "      <th>medium_url</th>\n",
       "      <th>picture_url</th>\n",
       "      <th>xl_picture_url</th>\n",
       "      <th>host_id</th>\n",
       "      <th>host_url</th>\n",
       "      <th>host_name</th>\n",
       "      <th>host_since</th>\n",
       "      <th>host_location</th>\n",
       "      <th>host_about</th>\n",
       "      <th>host_response_time</th>\n",
       "      <th>host_response_rate</th>\n",
       "      <th>host_acceptance_rate</th>\n",
       "      <th>host_is_superhost</th>\n",
       "      <th>host_thumbnail_url</th>\n",
       "      <th>host_picture_url</th>\n",
       "      <th>host_neighbourhood</th>\n",
       "      <th>host_listings_count</th>\n",
       "      <th>host_total_listings_count</th>\n",
       "      <th>host_verifications</th>\n",
       "      <th>host_has_profile_pic</th>\n",
       "      <th>host_identity_verified</th>\n",
       "      <th>street</th>\n",
       "      <th>neighbourhood</th>\n",
       "      <th>neighbourhood_cleansed</th>\n",
       "      <th>neighbourhood_group_cleansed</th>\n",
       "      <th>city</th>\n",
       "      <th>state</th>\n",
       "      <th>zipcode</th>\n",
       "      <th>market</th>\n",
       "      <th>smart_location</th>\n",
       "      <th>country_code</th>\n",
       "      <th>country</th>\n",
       "      <th>latitude</th>\n",
       "      <th>longitude</th>\n",
       "      <th>is_location_exact</th>\n",
       "      <th>property_type</th>\n",
       "      <th>room_type</th>\n",
       "      <th>accommodates</th>\n",
       "      <th>bathrooms</th>\n",
       "      <th>bedrooms</th>\n",
       "      <th>beds</th>\n",
       "      <th>bed_type</th>\n",
       "      <th>amenities</th>\n",
       "      <th>square_feet</th>\n",
       "      <th>price</th>\n",
       "      <th>weekly_price</th>\n",
       "      <th>monthly_price</th>\n",
       "      <th>security_deposit</th>\n",
       "      <th>cleaning_fee</th>\n",
       "      <th>guests_included</th>\n",
       "      <th>extra_people</th>\n",
       "      <th>minimum_nights</th>\n",
       "      <th>maximum_nights</th>\n",
       "      <th>minimum_minimum_nights</th>\n",
       "      <th>maximum_minimum_nights</th>\n",
       "      <th>minimum_maximum_nights</th>\n",
       "      <th>maximum_maximum_nights</th>\n",
       "      <th>minimum_nights_avg_ntm</th>\n",
       "      <th>maximum_nights_avg_ntm</th>\n",
       "      <th>calendar_updated</th>\n",
       "      <th>has_availability</th>\n",
       "      <th>availability_30</th>\n",
       "      <th>availability_60</th>\n",
       "      <th>availability_90</th>\n",
       "      <th>availability_365</th>\n",
       "      <th>calendar_last_scraped</th>\n",
       "      <th>number_of_reviews</th>\n",
       "      <th>number_of_reviews_ltm</th>\n",
       "      <th>first_review</th>\n",
       "      <th>last_review</th>\n",
       "      <th>review_scores_rating</th>\n",
       "      <th>review_scores_accuracy</th>\n",
       "      <th>review_scores_cleanliness</th>\n",
       "      <th>review_scores_checkin</th>\n",
       "      <th>review_scores_communication</th>\n",
       "      <th>review_scores_location</th>\n",
       "      <th>review_scores_value</th>\n",
       "      <th>requires_license</th>\n",
       "      <th>license</th>\n",
       "      <th>jurisdiction_names</th>\n",
       "      <th>instant_bookable</th>\n",
       "      <th>is_business_travel_ready</th>\n",
       "      <th>cancellation_policy</th>\n",
       "      <th>require_guest_profile_picture</th>\n",
       "      <th>require_guest_phone_verification</th>\n",
       "      <th>calculated_host_listings_count</th>\n",
       "      <th>calculated_host_listings_count_entire_homes</th>\n",
       "      <th>calculated_host_listings_count_private_rooms</th>\n",
       "      <th>calculated_host_listings_count_shared_rooms</th>\n",
       "      <th>reviews_per_month</th>\n",
       "    </tr>\n",
       "  </thead>\n",
       "  <tbody>\n",
       "    <tr>\n",
       "      <th>0</th>\n",
       "      <td>15883</td>\n",
       "      <td>https://www.airbnb.com/rooms/15883</td>\n",
       "      <td>20200317180025</td>\n",
       "      <td>2020-03-17</td>\n",
       "      <td>b&amp;b near Old Danube river</td>\n",
       "      <td>Four rooms, each one differently and individua...</td>\n",
       "      <td>Old Danube river, a short walk to one of the s...</td>\n",
       "      <td>Four rooms, each one differently and individua...</td>\n",
       "      <td>none</td>\n",
       "      <td>small and personal Four rooms at this B&amp;B, eac...</td>\n",
       "      <td>Und sonst? Na ja, und sonst wird spätestens zu...</td>\n",
       "      <td>9 minutes to the city The nearest metro statio...</td>\n",
       "      <td>free wifi, many books about Vienna, great tipp...</td>\n",
       "      <td>I live here! I am ready for questions any time...</td>\n",
       "      <td>NaN</td>\n",
       "      <td>NaN</td>\n",
       "      <td>NaN</td>\n",
       "      <td>https://a0.muscache.com/im/pictures/18eff738-a...</td>\n",
       "      <td>NaN</td>\n",
       "      <td>62142</td>\n",
       "      <td>https://www.airbnb.com/users/show/62142</td>\n",
       "      <td>Eva</td>\n",
       "      <td>2009-12-11</td>\n",
       "      <td>Vienna, Wien, Austria</td>\n",
       "      <td>Mein größtes Hobby: Reisen! Am liebsten mit me...</td>\n",
       "      <td>within an hour</td>\n",
       "      <td>100%</td>\n",
       "      <td>93%</td>\n",
       "      <td>f</td>\n",
       "      <td>https://a0.muscache.com/im/pictures/user/24166...</td>\n",
       "      <td>https://a0.muscache.com/im/pictures/user/24166...</td>\n",
       "      <td>Donaustadt</td>\n",
       "      <td>6.0</td>\n",
       "      <td>6.0</td>\n",
       "      <td>['email', 'phone', 'facebook', 'reviews', 'jum...</td>\n",
       "      <td>t</td>\n",
       "      <td>t</td>\n",
       "      <td>Vienna, Vienna, Austria</td>\n",
       "      <td>Donaustadt</td>\n",
       "      <td>Donaustadt</td>\n",
       "      <td>NaN</td>\n",
       "      <td>Vienna</td>\n",
       "      <td>Vienna</td>\n",
       "      <td>1220</td>\n",
       "      <td>Vienna</td>\n",
       "      <td>Vienna, Austria</td>\n",
       "      <td>AT</td>\n",
       "      <td>Austria</td>\n",
       "      <td>48.24262</td>\n",
       "      <td>16.42767</td>\n",
       "      <td>t</td>\n",
       "      <td>Bed and breakfast</td>\n",
       "      <td>Hotel room</td>\n",
       "      <td>3</td>\n",
       "      <td>1.0</td>\n",
       "      <td>1.0</td>\n",
       "      <td>2.0</td>\n",
       "      <td>Real Bed</td>\n",
       "      <td>{TV,Wifi,\"Air conditioning\",Breakfast,\"Free st...</td>\n",
       "      <td>NaN</td>\n",
       "      <td>$85.00</td>\n",
       "      <td>NaN</td>\n",
       "      <td>NaN</td>\n",
       "      <td>NaN</td>\n",
       "      <td>NaN</td>\n",
       "      <td>2</td>\n",
       "      <td>$10.00</td>\n",
       "      <td>1</td>\n",
       "      <td>365</td>\n",
       "      <td>1</td>\n",
       "      <td>1</td>\n",
       "      <td>999</td>\n",
       "      <td>999</td>\n",
       "      <td>1.0</td>\n",
       "      <td>999.0</td>\n",
       "      <td>5 days ago</td>\n",
       "      <td>t</td>\n",
       "      <td>26</td>\n",
       "      <td>46</td>\n",
       "      <td>66</td>\n",
       "      <td>314</td>\n",
       "      <td>2020-03-17</td>\n",
       "      <td>11</td>\n",
       "      <td>2</td>\n",
       "      <td>2015-04-10</td>\n",
       "      <td>2020-02-19</td>\n",
       "      <td>95.0</td>\n",
       "      <td>10.0</td>\n",
       "      <td>10.0</td>\n",
       "      <td>10.0</td>\n",
       "      <td>10.0</td>\n",
       "      <td>9.0</td>\n",
       "      <td>9.0</td>\n",
       "      <td>f</td>\n",
       "      <td>NaN</td>\n",
       "      <td>NaN</td>\n",
       "      <td>t</td>\n",
       "      <td>f</td>\n",
       "      <td>moderate</td>\n",
       "      <td>f</td>\n",
       "      <td>f</td>\n",
       "      <td>6</td>\n",
       "      <td>4</td>\n",
       "      <td>0</td>\n",
       "      <td>0</td>\n",
       "      <td>0.18</td>\n",
       "    </tr>\n",
       "    <tr>\n",
       "      <th>1</th>\n",
       "      <td>38768</td>\n",
       "      <td>https://www.airbnb.com/rooms/38768</td>\n",
       "      <td>20200317180025</td>\n",
       "      <td>2020-03-17</td>\n",
       "      <td>central cityapartement- wifi- nice neighbourhood</td>\n",
       "      <td>39m² apartment with beautiful courtyard of the...</td>\n",
       "      <td>Holiday atmosphere apartment,  39m². 2 rooms w...</td>\n",
       "      <td>39m² apartment with beautiful courtyard of the...</td>\n",
       "      <td>none</td>\n",
       "      <td>the Karmeliterviertel became very popular in t...</td>\n",
       "      <td>The great neighborhood and central location of...</td>\n",
       "      <td>300 meters from subway U2 Taborstraße and Tram...</td>\n",
       "      <td>Fresh towels and bedding will be provided. Fre...</td>\n",
       "      <td>I will meet the guests at their arriving to ha...</td>\n",
       "      <td>Die Gäste werden gebeten die Wohnung in einem ...</td>\n",
       "      <td>NaN</td>\n",
       "      <td>NaN</td>\n",
       "      <td>https://a0.muscache.com/im/pictures/7a2b25f8-a...</td>\n",
       "      <td>NaN</td>\n",
       "      <td>166283</td>\n",
       "      <td>https://www.airbnb.com/users/show/166283</td>\n",
       "      <td>Hannes</td>\n",
       "      <td>2010-07-14</td>\n",
       "      <td>Vienna, Wien, Austria</td>\n",
       "      <td>I am open minded and like travelling myself. I...</td>\n",
       "      <td>within an hour</td>\n",
       "      <td>100%</td>\n",
       "      <td>100%</td>\n",
       "      <td>f</td>\n",
       "      <td>https://a0.muscache.com/im/users/166283/profil...</td>\n",
       "      <td>https://a0.muscache.com/im/users/166283/profil...</td>\n",
       "      <td>Leopoldstadt</td>\n",
       "      <td>3.0</td>\n",
       "      <td>3.0</td>\n",
       "      <td>['email', 'phone', 'reviews', 'jumio', 'offlin...</td>\n",
       "      <td>t</td>\n",
       "      <td>f</td>\n",
       "      <td>Vienna, Vienna, Austria</td>\n",
       "      <td>Leopoldstadt</td>\n",
       "      <td>Leopoldstadt</td>\n",
       "      <td>NaN</td>\n",
       "      <td>Vienna</td>\n",
       "      <td>Vienna</td>\n",
       "      <td>1020</td>\n",
       "      <td>Vienna</td>\n",
       "      <td>Vienna, Austria</td>\n",
       "      <td>AT</td>\n",
       "      <td>Austria</td>\n",
       "      <td>48.21823</td>\n",
       "      <td>16.37926</td>\n",
       "      <td>t</td>\n",
       "      <td>Apartment</td>\n",
       "      <td>Entire home/apt</td>\n",
       "      <td>5</td>\n",
       "      <td>1.0</td>\n",
       "      <td>1.0</td>\n",
       "      <td>3.0</td>\n",
       "      <td>Real Bed</td>\n",
       "      <td>{Internet,Wifi,Kitchen,\"Buzzer/wireless interc...</td>\n",
       "      <td>NaN</td>\n",
       "      <td>$65.00</td>\n",
       "      <td>$440.00</td>\n",
       "      <td>$1,440.00</td>\n",
       "      <td>$150.00</td>\n",
       "      <td>$35.00</td>\n",
       "      <td>2</td>\n",
       "      <td>$12.00</td>\n",
       "      <td>3</td>\n",
       "      <td>100</td>\n",
       "      <td>1</td>\n",
       "      <td>3</td>\n",
       "      <td>1125</td>\n",
       "      <td>1125</td>\n",
       "      <td>3.0</td>\n",
       "      <td>1125.0</td>\n",
       "      <td>5 days ago</td>\n",
       "      <td>t</td>\n",
       "      <td>10</td>\n",
       "      <td>29</td>\n",
       "      <td>50</td>\n",
       "      <td>201</td>\n",
       "      <td>2020-03-17</td>\n",
       "      <td>313</td>\n",
       "      <td>41</td>\n",
       "      <td>2011-03-23</td>\n",
       "      <td>2020-03-04</td>\n",
       "      <td>95.0</td>\n",
       "      <td>10.0</td>\n",
       "      <td>10.0</td>\n",
       "      <td>10.0</td>\n",
       "      <td>10.0</td>\n",
       "      <td>10.0</td>\n",
       "      <td>10.0</td>\n",
       "      <td>f</td>\n",
       "      <td>NaN</td>\n",
       "      <td>NaN</td>\n",
       "      <td>f</td>\n",
       "      <td>f</td>\n",
       "      <td>strict_14_with_grace_period</td>\n",
       "      <td>f</td>\n",
       "      <td>t</td>\n",
       "      <td>3</td>\n",
       "      <td>3</td>\n",
       "      <td>0</td>\n",
       "      <td>0</td>\n",
       "      <td>2.86</td>\n",
       "    </tr>\n",
       "    <tr>\n",
       "      <th>2</th>\n",
       "      <td>40625</td>\n",
       "      <td>https://www.airbnb.com/rooms/40625</td>\n",
       "      <td>20200317180025</td>\n",
       "      <td>2020-03-17</td>\n",
       "      <td>Near Palace Schönbrunn, Apt. 1</td>\n",
       "      <td>Welcome to my Apt. 1! This is a 2bedroom apart...</td>\n",
       "      <td>Welcome to my Apt. 1! This is a two-bedroom ap...</td>\n",
       "      <td>Welcome to my Apt. 1! This is a 2bedroom apart...</td>\n",
       "      <td>none</td>\n",
       "      <td>The neighbourhood offers plenty of restaurants...</td>\n",
       "      <td>Tourist Tax: Please note that I need to collec...</td>\n",
       "      <td>Enjoy the perfect infrastructure of this apart...</td>\n",
       "      <td>The complete apartment is for you! It is not s...</td>\n",
       "      <td>I live around the corner from the apartment so...</td>\n",
       "      <td>Rule Nr. 1: PLEASE DO NOT DISTURB MY NEIGHBORS...</td>\n",
       "      <td>NaN</td>\n",
       "      <td>NaN</td>\n",
       "      <td>https://a0.muscache.com/im/pictures/11509144/d...</td>\n",
       "      <td>NaN</td>\n",
       "      <td>175131</td>\n",
       "      <td>https://www.airbnb.com/users/show/175131</td>\n",
       "      <td>Ingela</td>\n",
       "      <td>2010-07-20</td>\n",
       "      <td>Vienna, Wien, Austria</td>\n",
       "      <td>I´m originally from Sweden but have been livin...</td>\n",
       "      <td>within an hour</td>\n",
       "      <td>97%</td>\n",
       "      <td>75%</td>\n",
       "      <td>t</td>\n",
       "      <td>https://a0.muscache.com/im/users/175131/profil...</td>\n",
       "      <td>https://a0.muscache.com/im/users/175131/profil...</td>\n",
       "      <td>Rudolfsheim-Fünfhaus</td>\n",
       "      <td>16.0</td>\n",
       "      <td>16.0</td>\n",
       "      <td>['email', 'phone', 'reviews', 'jumio', 'govern...</td>\n",
       "      <td>t</td>\n",
       "      <td>t</td>\n",
       "      <td>Vienna, Vienna, Austria</td>\n",
       "      <td>Rudolfsheim-Fünfhaus</td>\n",
       "      <td>Rudolfsheim-Fnfhaus</td>\n",
       "      <td>NaN</td>\n",
       "      <td>Vienna</td>\n",
       "      <td>Vienna</td>\n",
       "      <td>1150</td>\n",
       "      <td>Vienna</td>\n",
       "      <td>Vienna, Austria</td>\n",
       "      <td>AT</td>\n",
       "      <td>Austria</td>\n",
       "      <td>48.18434</td>\n",
       "      <td>16.32701</td>\n",
       "      <td>f</td>\n",
       "      <td>Apartment</td>\n",
       "      <td>Entire home/apt</td>\n",
       "      <td>6</td>\n",
       "      <td>1.0</td>\n",
       "      <td>2.0</td>\n",
       "      <td>4.0</td>\n",
       "      <td>Real Bed</td>\n",
       "      <td>{TV,\"Cable TV\",Internet,Wifi,\"Air conditioning...</td>\n",
       "      <td>NaN</td>\n",
       "      <td>$130.00</td>\n",
       "      <td>$600.00</td>\n",
       "      <td>$1,895.00</td>\n",
       "      <td>$0.00</td>\n",
       "      <td>$55.00</td>\n",
       "      <td>5</td>\n",
       "      <td>$15.00</td>\n",
       "      <td>1</td>\n",
       "      <td>180</td>\n",
       "      <td>1</td>\n",
       "      <td>3</td>\n",
       "      <td>180</td>\n",
       "      <td>180</td>\n",
       "      <td>1.0</td>\n",
       "      <td>180.0</td>\n",
       "      <td>2 weeks ago</td>\n",
       "      <td>t</td>\n",
       "      <td>30</td>\n",
       "      <td>48</td>\n",
       "      <td>69</td>\n",
       "      <td>324</td>\n",
       "      <td>2020-03-17</td>\n",
       "      <td>153</td>\n",
       "      <td>25</td>\n",
       "      <td>2010-08-04</td>\n",
       "      <td>2020-01-04</td>\n",
       "      <td>97.0</td>\n",
       "      <td>10.0</td>\n",
       "      <td>10.0</td>\n",
       "      <td>10.0</td>\n",
       "      <td>10.0</td>\n",
       "      <td>9.0</td>\n",
       "      <td>9.0</td>\n",
       "      <td>f</td>\n",
       "      <td>NaN</td>\n",
       "      <td>NaN</td>\n",
       "      <td>t</td>\n",
       "      <td>f</td>\n",
       "      <td>moderate</td>\n",
       "      <td>f</td>\n",
       "      <td>f</td>\n",
       "      <td>15</td>\n",
       "      <td>14</td>\n",
       "      <td>1</td>\n",
       "      <td>0</td>\n",
       "      <td>1.31</td>\n",
       "    </tr>\n",
       "    <tr>\n",
       "      <th>3</th>\n",
       "      <td>51287</td>\n",
       "      <td>https://www.airbnb.com/rooms/51287</td>\n",
       "      <td>20200317180025</td>\n",
       "      <td>2020-03-17</td>\n",
       "      <td>little studio- next to citycenter- wifi- nice ...</td>\n",
       "      <td>small studio in new renovated old house and ve...</td>\n",
       "      <td>Nice little studio in one of the oldest and be...</td>\n",
       "      <td>small studio in new renovated old house and ve...</td>\n",
       "      <td>none</td>\n",
       "      <td>The neighbourhood has a lot of very nice littl...</td>\n",
       "      <td>This apartment is in one of the most pupular n...</td>\n",
       "      <td>Subway U2 Taborstraße is 500m away.  Aswell Tr...</td>\n",
       "      <td>Fresh towels and bed sheets (bedding, bedcover...</td>\n",
       "      <td>I usually will hand out the keys by arriving m...</td>\n",
       "      <td>Das Rauchen ist auf der Terrasse ist natürlich...</td>\n",
       "      <td>NaN</td>\n",
       "      <td>NaN</td>\n",
       "      <td>https://a0.muscache.com/im/pictures/25163038/1...</td>\n",
       "      <td>NaN</td>\n",
       "      <td>166283</td>\n",
       "      <td>https://www.airbnb.com/users/show/166283</td>\n",
       "      <td>Hannes</td>\n",
       "      <td>2010-07-14</td>\n",
       "      <td>Vienna, Wien, Austria</td>\n",
       "      <td>I am open minded and like travelling myself. I...</td>\n",
       "      <td>within an hour</td>\n",
       "      <td>100%</td>\n",
       "      <td>100%</td>\n",
       "      <td>f</td>\n",
       "      <td>https://a0.muscache.com/im/users/166283/profil...</td>\n",
       "      <td>https://a0.muscache.com/im/users/166283/profil...</td>\n",
       "      <td>Leopoldstadt</td>\n",
       "      <td>3.0</td>\n",
       "      <td>3.0</td>\n",
       "      <td>['email', 'phone', 'reviews', 'jumio', 'offlin...</td>\n",
       "      <td>t</td>\n",
       "      <td>f</td>\n",
       "      <td>Vienna, Vienna, Austria</td>\n",
       "      <td>Leopoldstadt</td>\n",
       "      <td>Leopoldstadt</td>\n",
       "      <td>NaN</td>\n",
       "      <td>Vienna</td>\n",
       "      <td>Vienna</td>\n",
       "      <td>1020</td>\n",
       "      <td>Vienna</td>\n",
       "      <td>Vienna, Austria</td>\n",
       "      <td>AT</td>\n",
       "      <td>Austria</td>\n",
       "      <td>48.21851</td>\n",
       "      <td>16.37781</td>\n",
       "      <td>t</td>\n",
       "      <td>Apartment</td>\n",
       "      <td>Entire home/apt</td>\n",
       "      <td>3</td>\n",
       "      <td>1.0</td>\n",
       "      <td>0.0</td>\n",
       "      <td>2.0</td>\n",
       "      <td>Real Bed</td>\n",
       "      <td>{Internet,Wifi,Kitchen,\"Buzzer/wireless interc...</td>\n",
       "      <td>NaN</td>\n",
       "      <td>$60.00</td>\n",
       "      <td>$500.00</td>\n",
       "      <td>$850.00</td>\n",
       "      <td>$150.00</td>\n",
       "      <td>$30.00</td>\n",
       "      <td>2</td>\n",
       "      <td>$8.00</td>\n",
       "      <td>3</td>\n",
       "      <td>100</td>\n",
       "      <td>2</td>\n",
       "      <td>3</td>\n",
       "      <td>1125</td>\n",
       "      <td>1125</td>\n",
       "      <td>3.0</td>\n",
       "      <td>1125.0</td>\n",
       "      <td>5 days ago</td>\n",
       "      <td>t</td>\n",
       "      <td>13</td>\n",
       "      <td>22</td>\n",
       "      <td>47</td>\n",
       "      <td>137</td>\n",
       "      <td>2020-03-17</td>\n",
       "      <td>294</td>\n",
       "      <td>50</td>\n",
       "      <td>2011-01-27</td>\n",
       "      <td>2020-02-26</td>\n",
       "      <td>92.0</td>\n",
       "      <td>10.0</td>\n",
       "      <td>9.0</td>\n",
       "      <td>10.0</td>\n",
       "      <td>10.0</td>\n",
       "      <td>10.0</td>\n",
       "      <td>9.0</td>\n",
       "      <td>f</td>\n",
       "      <td>NaN</td>\n",
       "      <td>NaN</td>\n",
       "      <td>f</td>\n",
       "      <td>f</td>\n",
       "      <td>strict_14_with_grace_period</td>\n",
       "      <td>f</td>\n",
       "      <td>t</td>\n",
       "      <td>3</td>\n",
       "      <td>3</td>\n",
       "      <td>0</td>\n",
       "      <td>0</td>\n",
       "      <td>2.64</td>\n",
       "    </tr>\n",
       "    <tr>\n",
       "      <th>4</th>\n",
       "      <td>70568</td>\n",
       "      <td>https://www.airbnb.com/rooms/70568</td>\n",
       "      <td>20200317180025</td>\n",
       "      <td>2020-03-18</td>\n",
       "      <td>apartment2rent - UNO City - Danube</td>\n",
       "      <td>NaN</td>\n",
       "      <td>Well located, sunny new Studio. 12 Minutes wal...</td>\n",
       "      <td>Well located, sunny new Studio. 12 Minutes wal...</td>\n",
       "      <td>none</td>\n",
       "      <td>NaN</td>\n",
       "      <td>NaN</td>\n",
       "      <td>NaN</td>\n",
       "      <td>NaN</td>\n",
       "      <td>NaN</td>\n",
       "      <td>Fühle Dich wie Zuhause, aber vergesse nicht, d...</td>\n",
       "      <td>NaN</td>\n",
       "      <td>NaN</td>\n",
       "      <td>https://a0.muscache.com/im/pictures/32911996/a...</td>\n",
       "      <td>NaN</td>\n",
       "      <td>358163</td>\n",
       "      <td>https://www.airbnb.com/users/show/358163</td>\n",
       "      <td>Georg</td>\n",
       "      <td>2011-01-22</td>\n",
       "      <td>Vienna, Wien, Austria</td>\n",
       "      <td>I am Georg from Vienna and I am really looking...</td>\n",
       "      <td>within a day</td>\n",
       "      <td>92%</td>\n",
       "      <td>29%</td>\n",
       "      <td>t</td>\n",
       "      <td>https://a0.muscache.com/im/pictures/user/b4f88...</td>\n",
       "      <td>https://a0.muscache.com/im/pictures/user/b4f88...</td>\n",
       "      <td>Donaustadt</td>\n",
       "      <td>7.0</td>\n",
       "      <td>7.0</td>\n",
       "      <td>['email', 'phone', 'reviews', 'jumio', 'govern...</td>\n",
       "      <td>t</td>\n",
       "      <td>t</td>\n",
       "      <td>Vienna, Vienna, Austria</td>\n",
       "      <td>Donaustadt</td>\n",
       "      <td>Donaustadt</td>\n",
       "      <td>NaN</td>\n",
       "      <td>Vienna</td>\n",
       "      <td>Vienna</td>\n",
       "      <td>1220</td>\n",
       "      <td>Vienna</td>\n",
       "      <td>Vienna, Austria</td>\n",
       "      <td>AT</td>\n",
       "      <td>Austria</td>\n",
       "      <td>48.22224</td>\n",
       "      <td>16.42460</td>\n",
       "      <td>t</td>\n",
       "      <td>Apartment</td>\n",
       "      <td>Entire home/apt</td>\n",
       "      <td>2</td>\n",
       "      <td>1.0</td>\n",
       "      <td>1.0</td>\n",
       "      <td>1.0</td>\n",
       "      <td>Real Bed</td>\n",
       "      <td>{TV,\"Cable TV\",Internet,Wifi,Kitchen,\"Free par...</td>\n",
       "      <td>0.0</td>\n",
       "      <td>$59.00</td>\n",
       "      <td>$350.00</td>\n",
       "      <td>$1,100.00</td>\n",
       "      <td>$150.00</td>\n",
       "      <td>$40.00</td>\n",
       "      <td>2</td>\n",
       "      <td>$15.00</td>\n",
       "      <td>3</td>\n",
       "      <td>365</td>\n",
       "      <td>3</td>\n",
       "      <td>11</td>\n",
       "      <td>365</td>\n",
       "      <td>365</td>\n",
       "      <td>3.2</td>\n",
       "      <td>365.0</td>\n",
       "      <td>4 months ago</td>\n",
       "      <td>t</td>\n",
       "      <td>30</td>\n",
       "      <td>60</td>\n",
       "      <td>90</td>\n",
       "      <td>365</td>\n",
       "      <td>2020-03-18</td>\n",
       "      <td>10</td>\n",
       "      <td>0</td>\n",
       "      <td>2011-04-12</td>\n",
       "      <td>2016-10-03</td>\n",
       "      <td>94.0</td>\n",
       "      <td>9.0</td>\n",
       "      <td>10.0</td>\n",
       "      <td>9.0</td>\n",
       "      <td>10.0</td>\n",
       "      <td>9.0</td>\n",
       "      <td>9.0</td>\n",
       "      <td>f</td>\n",
       "      <td>NaN</td>\n",
       "      <td>NaN</td>\n",
       "      <td>f</td>\n",
       "      <td>f</td>\n",
       "      <td>strict_14_with_grace_period</td>\n",
       "      <td>f</td>\n",
       "      <td>f</td>\n",
       "      <td>5</td>\n",
       "      <td>5</td>\n",
       "      <td>0</td>\n",
       "      <td>0</td>\n",
       "      <td>0.09</td>\n",
       "    </tr>\n",
       "  </tbody>\n",
       "</table>\n",
       "</div>"
      ],
      "text/plain": [
       "      id                         listing_url       scrape_id last_scraped  \\\n",
       "0  15883  https://www.airbnb.com/rooms/15883  20200317180025   2020-03-17   \n",
       "1  38768  https://www.airbnb.com/rooms/38768  20200317180025   2020-03-17   \n",
       "2  40625  https://www.airbnb.com/rooms/40625  20200317180025   2020-03-17   \n",
       "3  51287  https://www.airbnb.com/rooms/51287  20200317180025   2020-03-17   \n",
       "4  70568  https://www.airbnb.com/rooms/70568  20200317180025   2020-03-18   \n",
       "\n",
       "                                                name  \\\n",
       "0                          b&b near Old Danube river   \n",
       "1   central cityapartement- wifi- nice neighbourhood   \n",
       "2                     Near Palace Schönbrunn, Apt. 1   \n",
       "3  little studio- next to citycenter- wifi- nice ...   \n",
       "4                 apartment2rent - UNO City - Danube   \n",
       "\n",
       "                                             summary  \\\n",
       "0  Four rooms, each one differently and individua...   \n",
       "1  39m² apartment with beautiful courtyard of the...   \n",
       "2  Welcome to my Apt. 1! This is a 2bedroom apart...   \n",
       "3  small studio in new renovated old house and ve...   \n",
       "4                                                NaN   \n",
       "\n",
       "                                               space  \\\n",
       "0  Old Danube river, a short walk to one of the s...   \n",
       "1  Holiday atmosphere apartment,  39m². 2 rooms w...   \n",
       "2  Welcome to my Apt. 1! This is a two-bedroom ap...   \n",
       "3  Nice little studio in one of the oldest and be...   \n",
       "4  Well located, sunny new Studio. 12 Minutes wal...   \n",
       "\n",
       "                                         description experiences_offered  \\\n",
       "0  Four rooms, each one differently and individua...                none   \n",
       "1  39m² apartment with beautiful courtyard of the...                none   \n",
       "2  Welcome to my Apt. 1! This is a 2bedroom apart...                none   \n",
       "3  small studio in new renovated old house and ve...                none   \n",
       "4  Well located, sunny new Studio. 12 Minutes wal...                none   \n",
       "\n",
       "                               neighborhood_overview  \\\n",
       "0  small and personal Four rooms at this B&B, eac...   \n",
       "1  the Karmeliterviertel became very popular in t...   \n",
       "2  The neighbourhood offers plenty of restaurants...   \n",
       "3  The neighbourhood has a lot of very nice littl...   \n",
       "4                                                NaN   \n",
       "\n",
       "                                               notes  \\\n",
       "0  Und sonst? Na ja, und sonst wird spätestens zu...   \n",
       "1  The great neighborhood and central location of...   \n",
       "2  Tourist Tax: Please note that I need to collec...   \n",
       "3  This apartment is in one of the most pupular n...   \n",
       "4                                                NaN   \n",
       "\n",
       "                                             transit  \\\n",
       "0  9 minutes to the city The nearest metro statio...   \n",
       "1  300 meters from subway U2 Taborstraße and Tram...   \n",
       "2  Enjoy the perfect infrastructure of this apart...   \n",
       "3  Subway U2 Taborstraße is 500m away.  Aswell Tr...   \n",
       "4                                                NaN   \n",
       "\n",
       "                                              access  \\\n",
       "0  free wifi, many books about Vienna, great tipp...   \n",
       "1  Fresh towels and bedding will be provided. Fre...   \n",
       "2  The complete apartment is for you! It is not s...   \n",
       "3  Fresh towels and bed sheets (bedding, bedcover...   \n",
       "4                                                NaN   \n",
       "\n",
       "                                         interaction  \\\n",
       "0  I live here! I am ready for questions any time...   \n",
       "1  I will meet the guests at their arriving to ha...   \n",
       "2  I live around the corner from the apartment so...   \n",
       "3  I usually will hand out the keys by arriving m...   \n",
       "4                                                NaN   \n",
       "\n",
       "                                         house_rules  thumbnail_url  \\\n",
       "0                                                NaN            NaN   \n",
       "1  Die Gäste werden gebeten die Wohnung in einem ...            NaN   \n",
       "2  Rule Nr. 1: PLEASE DO NOT DISTURB MY NEIGHBORS...            NaN   \n",
       "3  Das Rauchen ist auf der Terrasse ist natürlich...            NaN   \n",
       "4  Fühle Dich wie Zuhause, aber vergesse nicht, d...            NaN   \n",
       "\n",
       "   medium_url                                        picture_url  \\\n",
       "0         NaN  https://a0.muscache.com/im/pictures/18eff738-a...   \n",
       "1         NaN  https://a0.muscache.com/im/pictures/7a2b25f8-a...   \n",
       "2         NaN  https://a0.muscache.com/im/pictures/11509144/d...   \n",
       "3         NaN  https://a0.muscache.com/im/pictures/25163038/1...   \n",
       "4         NaN  https://a0.muscache.com/im/pictures/32911996/a...   \n",
       "\n",
       "   xl_picture_url  host_id                                  host_url  \\\n",
       "0             NaN    62142   https://www.airbnb.com/users/show/62142   \n",
       "1             NaN   166283  https://www.airbnb.com/users/show/166283   \n",
       "2             NaN   175131  https://www.airbnb.com/users/show/175131   \n",
       "3             NaN   166283  https://www.airbnb.com/users/show/166283   \n",
       "4             NaN   358163  https://www.airbnb.com/users/show/358163   \n",
       "\n",
       "  host_name  host_since          host_location  \\\n",
       "0       Eva  2009-12-11  Vienna, Wien, Austria   \n",
       "1    Hannes  2010-07-14  Vienna, Wien, Austria   \n",
       "2    Ingela  2010-07-20  Vienna, Wien, Austria   \n",
       "3    Hannes  2010-07-14  Vienna, Wien, Austria   \n",
       "4     Georg  2011-01-22  Vienna, Wien, Austria   \n",
       "\n",
       "                                          host_about host_response_time  \\\n",
       "0  Mein größtes Hobby: Reisen! Am liebsten mit me...     within an hour   \n",
       "1  I am open minded and like travelling myself. I...     within an hour   \n",
       "2  I´m originally from Sweden but have been livin...     within an hour   \n",
       "3  I am open minded and like travelling myself. I...     within an hour   \n",
       "4  I am Georg from Vienna and I am really looking...       within a day   \n",
       "\n",
       "  host_response_rate host_acceptance_rate host_is_superhost  \\\n",
       "0               100%                  93%                 f   \n",
       "1               100%                 100%                 f   \n",
       "2                97%                  75%                 t   \n",
       "3               100%                 100%                 f   \n",
       "4                92%                  29%                 t   \n",
       "\n",
       "                                  host_thumbnail_url  \\\n",
       "0  https://a0.muscache.com/im/pictures/user/24166...   \n",
       "1  https://a0.muscache.com/im/users/166283/profil...   \n",
       "2  https://a0.muscache.com/im/users/175131/profil...   \n",
       "3  https://a0.muscache.com/im/users/166283/profil...   \n",
       "4  https://a0.muscache.com/im/pictures/user/b4f88...   \n",
       "\n",
       "                                    host_picture_url    host_neighbourhood  \\\n",
       "0  https://a0.muscache.com/im/pictures/user/24166...            Donaustadt   \n",
       "1  https://a0.muscache.com/im/users/166283/profil...          Leopoldstadt   \n",
       "2  https://a0.muscache.com/im/users/175131/profil...  Rudolfsheim-Fünfhaus   \n",
       "3  https://a0.muscache.com/im/users/166283/profil...          Leopoldstadt   \n",
       "4  https://a0.muscache.com/im/pictures/user/b4f88...            Donaustadt   \n",
       "\n",
       "   host_listings_count  host_total_listings_count  \\\n",
       "0                  6.0                        6.0   \n",
       "1                  3.0                        3.0   \n",
       "2                 16.0                       16.0   \n",
       "3                  3.0                        3.0   \n",
       "4                  7.0                        7.0   \n",
       "\n",
       "                                  host_verifications host_has_profile_pic  \\\n",
       "0  ['email', 'phone', 'facebook', 'reviews', 'jum...                    t   \n",
       "1  ['email', 'phone', 'reviews', 'jumio', 'offlin...                    t   \n",
       "2  ['email', 'phone', 'reviews', 'jumio', 'govern...                    t   \n",
       "3  ['email', 'phone', 'reviews', 'jumio', 'offlin...                    t   \n",
       "4  ['email', 'phone', 'reviews', 'jumio', 'govern...                    t   \n",
       "\n",
       "  host_identity_verified                   street         neighbourhood  \\\n",
       "0                      t  Vienna, Vienna, Austria            Donaustadt   \n",
       "1                      f  Vienna, Vienna, Austria          Leopoldstadt   \n",
       "2                      t  Vienna, Vienna, Austria  Rudolfsheim-Fünfhaus   \n",
       "3                      f  Vienna, Vienna, Austria          Leopoldstadt   \n",
       "4                      t  Vienna, Vienna, Austria            Donaustadt   \n",
       "\n",
       "  neighbourhood_cleansed  neighbourhood_group_cleansed    city   state  \\\n",
       "0             Donaustadt                           NaN  Vienna  Vienna   \n",
       "1           Leopoldstadt                           NaN  Vienna  Vienna   \n",
       "2   Rudolfsheim-Fnfhaus                           NaN  Vienna  Vienna   \n",
       "3           Leopoldstadt                           NaN  Vienna  Vienna   \n",
       "4             Donaustadt                           NaN  Vienna  Vienna   \n",
       "\n",
       "  zipcode  market   smart_location country_code  country  latitude  longitude  \\\n",
       "0    1220  Vienna  Vienna, Austria           AT  Austria  48.24262   16.42767   \n",
       "1    1020  Vienna  Vienna, Austria           AT  Austria  48.21823   16.37926   \n",
       "2    1150  Vienna  Vienna, Austria           AT  Austria  48.18434   16.32701   \n",
       "3    1020  Vienna  Vienna, Austria           AT  Austria  48.21851   16.37781   \n",
       "4    1220  Vienna  Vienna, Austria           AT  Austria  48.22224   16.42460   \n",
       "\n",
       "  is_location_exact      property_type        room_type  accommodates  \\\n",
       "0                 t  Bed and breakfast       Hotel room             3   \n",
       "1                 t          Apartment  Entire home/apt             5   \n",
       "2                 f          Apartment  Entire home/apt             6   \n",
       "3                 t          Apartment  Entire home/apt             3   \n",
       "4                 t          Apartment  Entire home/apt             2   \n",
       "\n",
       "   bathrooms  bedrooms  beds  bed_type  \\\n",
       "0        1.0       1.0   2.0  Real Bed   \n",
       "1        1.0       1.0   3.0  Real Bed   \n",
       "2        1.0       2.0   4.0  Real Bed   \n",
       "3        1.0       0.0   2.0  Real Bed   \n",
       "4        1.0       1.0   1.0  Real Bed   \n",
       "\n",
       "                                           amenities  square_feet    price  \\\n",
       "0  {TV,Wifi,\"Air conditioning\",Breakfast,\"Free st...          NaN   $85.00   \n",
       "1  {Internet,Wifi,Kitchen,\"Buzzer/wireless interc...          NaN   $65.00   \n",
       "2  {TV,\"Cable TV\",Internet,Wifi,\"Air conditioning...          NaN  $130.00   \n",
       "3  {Internet,Wifi,Kitchen,\"Buzzer/wireless interc...          NaN   $60.00   \n",
       "4  {TV,\"Cable TV\",Internet,Wifi,Kitchen,\"Free par...          0.0   $59.00   \n",
       "\n",
       "  weekly_price monthly_price security_deposit cleaning_fee  guests_included  \\\n",
       "0          NaN           NaN              NaN          NaN                2   \n",
       "1      $440.00     $1,440.00          $150.00       $35.00                2   \n",
       "2      $600.00     $1,895.00            $0.00       $55.00                5   \n",
       "3      $500.00       $850.00          $150.00       $30.00                2   \n",
       "4      $350.00     $1,100.00          $150.00       $40.00                2   \n",
       "\n",
       "  extra_people  minimum_nights  maximum_nights  minimum_minimum_nights  \\\n",
       "0       $10.00               1             365                       1   \n",
       "1       $12.00               3             100                       1   \n",
       "2       $15.00               1             180                       1   \n",
       "3        $8.00               3             100                       2   \n",
       "4       $15.00               3             365                       3   \n",
       "\n",
       "   maximum_minimum_nights  minimum_maximum_nights  maximum_maximum_nights  \\\n",
       "0                       1                     999                     999   \n",
       "1                       3                    1125                    1125   \n",
       "2                       3                     180                     180   \n",
       "3                       3                    1125                    1125   \n",
       "4                      11                     365                     365   \n",
       "\n",
       "   minimum_nights_avg_ntm  maximum_nights_avg_ntm calendar_updated  \\\n",
       "0                     1.0                   999.0       5 days ago   \n",
       "1                     3.0                  1125.0       5 days ago   \n",
       "2                     1.0                   180.0      2 weeks ago   \n",
       "3                     3.0                  1125.0       5 days ago   \n",
       "4                     3.2                   365.0     4 months ago   \n",
       "\n",
       "  has_availability  availability_30  availability_60  availability_90  \\\n",
       "0                t               26               46               66   \n",
       "1                t               10               29               50   \n",
       "2                t               30               48               69   \n",
       "3                t               13               22               47   \n",
       "4                t               30               60               90   \n",
       "\n",
       "   availability_365 calendar_last_scraped  number_of_reviews  \\\n",
       "0               314            2020-03-17                 11   \n",
       "1               201            2020-03-17                313   \n",
       "2               324            2020-03-17                153   \n",
       "3               137            2020-03-17                294   \n",
       "4               365            2020-03-18                 10   \n",
       "\n",
       "   number_of_reviews_ltm first_review last_review  review_scores_rating  \\\n",
       "0                      2   2015-04-10  2020-02-19                  95.0   \n",
       "1                     41   2011-03-23  2020-03-04                  95.0   \n",
       "2                     25   2010-08-04  2020-01-04                  97.0   \n",
       "3                     50   2011-01-27  2020-02-26                  92.0   \n",
       "4                      0   2011-04-12  2016-10-03                  94.0   \n",
       "\n",
       "   review_scores_accuracy  review_scores_cleanliness  review_scores_checkin  \\\n",
       "0                    10.0                       10.0                   10.0   \n",
       "1                    10.0                       10.0                   10.0   \n",
       "2                    10.0                       10.0                   10.0   \n",
       "3                    10.0                        9.0                   10.0   \n",
       "4                     9.0                       10.0                    9.0   \n",
       "\n",
       "   review_scores_communication  review_scores_location  review_scores_value  \\\n",
       "0                         10.0                     9.0                  9.0   \n",
       "1                         10.0                    10.0                 10.0   \n",
       "2                         10.0                     9.0                  9.0   \n",
       "3                         10.0                    10.0                  9.0   \n",
       "4                         10.0                     9.0                  9.0   \n",
       "\n",
       "  requires_license license  jurisdiction_names instant_bookable  \\\n",
       "0                f     NaN                 NaN                t   \n",
       "1                f     NaN                 NaN                f   \n",
       "2                f     NaN                 NaN                t   \n",
       "3                f     NaN                 NaN                f   \n",
       "4                f     NaN                 NaN                f   \n",
       "\n",
       "  is_business_travel_ready          cancellation_policy  \\\n",
       "0                        f                     moderate   \n",
       "1                        f  strict_14_with_grace_period   \n",
       "2                        f                     moderate   \n",
       "3                        f  strict_14_with_grace_period   \n",
       "4                        f  strict_14_with_grace_period   \n",
       "\n",
       "  require_guest_profile_picture require_guest_phone_verification  \\\n",
       "0                             f                                f   \n",
       "1                             f                                t   \n",
       "2                             f                                f   \n",
       "3                             f                                t   \n",
       "4                             f                                f   \n",
       "\n",
       "   calculated_host_listings_count  \\\n",
       "0                               6   \n",
       "1                               3   \n",
       "2                              15   \n",
       "3                               3   \n",
       "4                               5   \n",
       "\n",
       "   calculated_host_listings_count_entire_homes  \\\n",
       "0                                            4   \n",
       "1                                            3   \n",
       "2                                           14   \n",
       "3                                            3   \n",
       "4                                            5   \n",
       "\n",
       "   calculated_host_listings_count_private_rooms  \\\n",
       "0                                             0   \n",
       "1                                             0   \n",
       "2                                             1   \n",
       "3                                             0   \n",
       "4                                             0   \n",
       "\n",
       "   calculated_host_listings_count_shared_rooms  reviews_per_month  \n",
       "0                                            0               0.18  \n",
       "1                                            0               2.86  \n",
       "2                                            0               1.31  \n",
       "3                                            0               2.64  \n",
       "4                                            0               0.09  "
      ]
     },
     "execution_count": 115,
     "metadata": {},
     "output_type": "execute_result"
    }
   ],
   "source": [
    "pd.options.display.max_columns = 107\n",
    "listings.head()"
   ]
  },
  {
   "cell_type": "markdown",
   "metadata": {},
   "source": [
    "look at null counts:"
   ]
  },
  {
   "cell_type": "markdown",
   "metadata": {},
   "source": [
    "## Preprocess data"
   ]
  },
  {
   "cell_type": "code",
   "execution_count": 116,
   "metadata": {},
   "outputs": [
    {
     "name": "stdout",
     "output_type": "stream",
     "text": [
      "<class 'pandas.core.frame.DataFrame'>\n",
      "RangeIndex: 13224 entries, 0 to 13223\n",
      "Data columns (total 106 columns):\n",
      " #   Column                                        Non-Null Count  Dtype  \n",
      "---  ------                                        --------------  -----  \n",
      " 0   id                                            13224 non-null  int64  \n",
      " 1   listing_url                                   13224 non-null  object \n",
      " 2   scrape_id                                     13224 non-null  int64  \n",
      " 3   last_scraped                                  13224 non-null  object \n",
      " 4   name                                          13210 non-null  object \n",
      " 5   summary                                       12601 non-null  object \n",
      " 6   space                                         9277 non-null   object \n",
      " 7   description                                   12917 non-null  object \n",
      " 8   experiences_offered                           13224 non-null  object \n",
      " 9   neighborhood_overview                         8242 non-null   object \n",
      " 10  notes                                         4859 non-null   object \n",
      " 11  transit                                       8888 non-null   object \n",
      " 12  access                                        6021 non-null   object \n",
      " 13  interaction                                   7469 non-null   object \n",
      " 14  house_rules                                   6474 non-null   object \n",
      " 15  thumbnail_url                                 0 non-null      float64\n",
      " 16  medium_url                                    0 non-null      float64\n",
      " 17  picture_url                                   13224 non-null  object \n",
      " 18  xl_picture_url                                0 non-null      float64\n",
      " 19  host_id                                       13224 non-null  int64  \n",
      " 20  host_url                                      13224 non-null  object \n",
      " 21  host_name                                     13222 non-null  object \n",
      " 22  host_since                                    13222 non-null  object \n",
      " 23  host_location                                 13194 non-null  object \n",
      " 24  host_about                                    7031 non-null   object \n",
      " 25  host_response_time                            9538 non-null   object \n",
      " 26  host_response_rate                            9538 non-null   object \n",
      " 27  host_acceptance_rate                          10949 non-null  object \n",
      " 28  host_is_superhost                             13222 non-null  object \n",
      " 29  host_thumbnail_url                            13222 non-null  object \n",
      " 30  host_picture_url                              13222 non-null  object \n",
      " 31  host_neighbourhood                            10913 non-null  object \n",
      " 32  host_listings_count                           13222 non-null  float64\n",
      " 33  host_total_listings_count                     13222 non-null  float64\n",
      " 34  host_verifications                            13224 non-null  object \n",
      " 35  host_has_profile_pic                          13222 non-null  object \n",
      " 36  host_identity_verified                        13222 non-null  object \n",
      " 37  street                                        13224 non-null  object \n",
      " 38  neighbourhood                                 13220 non-null  object \n",
      " 39  neighbourhood_cleansed                        13224 non-null  object \n",
      " 40  neighbourhood_group_cleansed                  0 non-null      float64\n",
      " 41  city                                          13219 non-null  object \n",
      " 42  state                                         12973 non-null  object \n",
      " 43  zipcode                                       13010 non-null  object \n",
      " 44  market                                        13205 non-null  object \n",
      " 45  smart_location                                13224 non-null  object \n",
      " 46  country_code                                  13224 non-null  object \n",
      " 47  country                                       13224 non-null  object \n",
      " 48  latitude                                      13224 non-null  float64\n",
      " 49  longitude                                     13224 non-null  float64\n",
      " 50  is_location_exact                             13224 non-null  object \n",
      " 51  property_type                                 13224 non-null  object \n",
      " 52  room_type                                     13224 non-null  object \n",
      " 53  accommodates                                  13224 non-null  int64  \n",
      " 54  bathrooms                                     13219 non-null  float64\n",
      " 55  bedrooms                                      13205 non-null  float64\n",
      " 56  beds                                          13141 non-null  float64\n",
      " 57  bed_type                                      13224 non-null  object \n",
      " 58  amenities                                     13224 non-null  object \n",
      " 59  square_feet                                   238 non-null    float64\n",
      " 60  price                                         13224 non-null  object \n",
      " 61  weekly_price                                  1351 non-null   object \n",
      " 62  monthly_price                                 1259 non-null   object \n",
      " 63  security_deposit                              9491 non-null   object \n",
      " 64  cleaning_fee                                  11003 non-null  object \n",
      " 65  guests_included                               13224 non-null  int64  \n",
      " 66  extra_people                                  13224 non-null  object \n",
      " 67  minimum_nights                                13224 non-null  int64  \n",
      " 68  maximum_nights                                13224 non-null  int64  \n",
      " 69  minimum_minimum_nights                        13224 non-null  int64  \n",
      " 70  maximum_minimum_nights                        13224 non-null  int64  \n",
      " 71  minimum_maximum_nights                        13224 non-null  int64  \n",
      " 72  maximum_maximum_nights                        13224 non-null  int64  \n",
      " 73  minimum_nights_avg_ntm                        13224 non-null  float64\n",
      " 74  maximum_nights_avg_ntm                        13224 non-null  float64\n",
      " 75  calendar_updated                              13224 non-null  object \n",
      " 76  has_availability                              13224 non-null  object \n",
      " 77  availability_30                               13224 non-null  int64  \n",
      " 78  availability_60                               13224 non-null  int64  \n",
      " 79  availability_90                               13224 non-null  int64  \n",
      " 80  availability_365                              13224 non-null  int64  \n",
      " 81  calendar_last_scraped                         13224 non-null  object \n",
      " 82  number_of_reviews                             13224 non-null  int64  \n",
      " 83  number_of_reviews_ltm                         13224 non-null  int64  \n",
      " 84  first_review                                  11219 non-null  object \n",
      " 85  last_review                                   11219 non-null  object \n",
      " 86  review_scores_rating                          11086 non-null  float64\n",
      " 87  review_scores_accuracy                        11073 non-null  float64\n",
      " 88  review_scores_cleanliness                     11073 non-null  float64\n",
      " 89  review_scores_checkin                         11072 non-null  float64\n",
      " 90  review_scores_communication                   11074 non-null  float64\n",
      " 91  review_scores_location                        11073 non-null  float64\n",
      " 92  review_scores_value                           11071 non-null  float64\n",
      " 93  requires_license                              13224 non-null  object \n",
      " 94  license                                       73 non-null     object \n",
      " 95  jurisdiction_names                            0 non-null      float64\n",
      " 96  instant_bookable                              13224 non-null  object \n",
      " 97  is_business_travel_ready                      13224 non-null  object \n",
      " 98  cancellation_policy                           13224 non-null  object \n",
      " 99  require_guest_profile_picture                 13224 non-null  object \n",
      " 100 require_guest_phone_verification              13224 non-null  object \n",
      " 101 calculated_host_listings_count                13224 non-null  int64  \n",
      " 102 calculated_host_listings_count_entire_homes   13224 non-null  int64  \n",
      " 103 calculated_host_listings_count_private_rooms  13224 non-null  int64  \n",
      " 104 calculated_host_listings_count_shared_rooms   13224 non-null  int64  \n",
      " 105 reviews_per_month                             11219 non-null  float64\n",
      "dtypes: float64(23), int64(21), object(62)\n",
      "memory usage: 10.7+ MB\n"
     ]
    }
   ],
   "source": [
    "listings.info(null_counts=True,verbose=True)"
   ]
  },
  {
   "cell_type": "markdown",
   "metadata": {},
   "source": [
    "We want to include factors like host_response_rate, host_response_time or review_scores in our analysis and feel that a few 1000 samples is enough to detect a pattern, so drop rows where those are empty."
   ]
  },
  {
   "cell_type": "code",
   "execution_count": 122,
   "metadata": {},
   "outputs": [],
   "source": [
    "listings.dropna(subset=['host_response_time','host_response_rate','host_acceptance_rate','review_scores_rating','review_scores_accuracy','review_scores_cleanliness','review_scores_checkin',\n",
    "                        'review_scores_communication','review_scores_location','review_scores_value'], inplace=True)"
   ]
  },
  {
   "cell_type": "markdown",
   "metadata": {},
   "source": [
    "To prevent data leakage (for example via host_acceptance_rate or calculated_host_listings_count), only keep one column per host."
   ]
  },
  {
   "cell_type": "code",
   "execution_count": 123,
   "metadata": {},
   "outputs": [],
   "source": [
    "listings.drop_duplicates(subset=['host_id'],inplace=True)"
   ]
  },
  {
   "cell_type": "code",
   "execution_count": 124,
   "metadata": {},
   "outputs": [
    {
     "data": {
      "text/plain": [
       "(4415, 106)"
      ]
     },
     "execution_count": 124,
     "metadata": {},
     "output_type": "execute_result"
    }
   ],
   "source": [
    "listings.shape"
   ]
  },
  {
   "cell_type": "markdown",
   "metadata": {},
   "source": [
    "So we have lots of columns with different issues. Leaving out the natural text columns the biggest work remains to be done on the columns amenities and host_verifications which contain lists of features. We are going to split those up in boolean columns for each feature appearing in any sample. The boolean columns are encoded as 't','f', we are going to encode the categorical columns and the time columns correctly. Also the columns containing the price or host_response_rate, host_acceptance_rate need to be converted to numeric. There are some columns which contain redundant or vacuous information which we are going to remove. For sake of simplicity we also leave out the columns containing text from our analysis."
   ]
  },
  {
   "cell_type": "code",
   "execution_count": 125,
   "metadata": {},
   "outputs": [],
   "source": [
    "col = 'amenities'"
   ]
  },
  {
   "cell_type": "code",
   "execution_count": 126,
   "metadata": {},
   "outputs": [],
   "source": [
    "# split up different values in amenities column\n",
    "options = list(set(([x for y in listings[col].str.strip('{}').str.split(',') for x in y])))"
   ]
  },
  {
   "cell_type": "code",
   "execution_count": 127,
   "metadata": {},
   "outputs": [
    {
     "data": {
      "text/plain": [
       "[' toilet\"', '\"Wide clearance to shower']"
      ]
     },
     "execution_count": 127,
     "metadata": {},
     "output_type": "execute_result"
    }
   ],
   "source": [
    "# we split up at commas, multi-word values are enclosed by quotes; can detect missplits by counting quotes\n",
    "[x for x in list(set(([x for y in listings[col].str.strip('{}').str.split(',') for x in y]))) if x.count('\"')%2==1]"
   ]
  },
  {
   "cell_type": "code",
   "execution_count": 128,
   "metadata": {},
   "outputs": [],
   "source": [
    "for option in ['\"Wide clearance to shower',' toilet\"', '']:\n",
    "    if option in options:\n",
    "        options.remove(option)\n",
    "option = '\"Wide clearance to shower, toilet\"'\n",
    "if option not in options:\n",
    "    options.append('\"Wide clearance to shower, toilet\"')\n",
    "\n",
    "for option in options:\n",
    "    listings[col+'_'+option] = listings[col].apply(lambda x: option in x)"
   ]
  },
  {
   "cell_type": "code",
   "execution_count": 129,
   "metadata": {},
   "outputs": [],
   "source": [
    "# analogously for host_verifications column, note that information there is encoded a little differently than in the amenities column\n",
    "col = 'host_verifications'\n",
    "\n",
    "options = np.unique([x for y in listings[col].str.strip('[]').str.split(',') for x in y])\n",
    "options = [x.strip(\"', \") for x in options]\n",
    "if '' in options:\n",
    "    options.remove('')\n",
    "if 'None' in options:\n",
    "    options.remove('None')\n",
    "option = options[0]\n",
    "for option in options:\n",
    "    listings[col+'_'+option] = listings[col].apply(lambda x: \"'\"+option+\"'\" in x)"
   ]
  },
  {
   "cell_type": "code",
   "execution_count": 130,
   "metadata": {},
   "outputs": [],
   "source": [
    "# date columns\n",
    "for col in ['host_since','first_review','last_review']:\n",
    "    listings[col] = (pd.to_datetime(listings[col])-pd.to_datetime('1970-01-01')).dt.total_seconds()\n",
    "# categorical columns\n",
    "for col in ['host_response_time','property_type','room_type','bed_type','cancellation_policy','zipcode']:\n",
    "    listings[col] = listings[col].astype('category')\n",
    "# Boolean columns\n",
    "for col in ['host_is_superhost','host_has_profile_pic','host_identity_verified','is_location_exact','requires_license','instant_bookable','is_business_travel_ready',\n",
    "           'require_guest_profile_picture','require_guest_phone_verification','has_availability']:\n",
    "    listings[col] = listings[col].str.replace('f','').astype(bool)\n",
    "# numeric columns\n",
    "for col in ['price', 'security_deposit','cleaning_fee','extra_people']:\n",
    "    listings[col] = listings[col].str.replace('$','').str.replace(',','').astype(float)\n",
    "for col in ['host_acceptance_rate','host_response_rate']:\n",
    "    listings[col] = listings[col].str.replace('%','').astype(float)"
   ]
  },
  {
   "cell_type": "code",
   "execution_count": 131,
   "metadata": {},
   "outputs": [],
   "source": [
    "columns_to_keep = ['host_since','host_response_time','host_response_rate','host_acceptance_rate','host_listings_count','host_total_listings_count','host_is_superhost',\n",
    "                 'host_has_profile_pic','host_identity_verified','zipcode','latitude','longitude','is_location_exact','property_type','room_type','accommodates',\n",
    "                 'bathrooms','bedrooms','beds','bed_type','guests_included','has_availability','availability_30','availability_60','availability_90','availability_365',\n",
    "                 'number_of_reviews','number_of_reviews_ltm','first_review','last_review','review_scores_rating','review_scores_accuracy', 'review_scores_cleanliness',\n",
    "                  'review_scores_checkin','review_scores_communication','review_scores_location','review_scores_value','requires_license','instant_bookable',\n",
    "                  'is_business_travel_ready','cancellation_policy','require_guest_profile_picture','require_guest_phone_verification','calculated_host_listings_count',\n",
    "                  'calculated_host_listings_count_entire_homes', 'calculated_host_listings_count_private_rooms','calculated_host_listings_count_shared_rooms',\n",
    "                  'reviews_per_month','price']"
   ]
  },
  {
   "cell_type": "code",
   "execution_count": 132,
   "metadata": {},
   "outputs": [],
   "source": [
    "categorical_columns = ['host_response_time','zipcode','property_type','room_type','bed_type','cancellation_policy']"
   ]
  },
  {
   "cell_type": "code",
   "execution_count": 133,
   "metadata": {},
   "outputs": [],
   "source": [
    "columns_to_keep.extend([column for column in listings.columns if column.startswith('amenities_')])\n",
    "columns_to_keep.extend([column for column in listings.columns if column.startswith('host_verifications_')])"
   ]
  },
  {
   "cell_type": "code",
   "execution_count": 240,
   "metadata": {},
   "outputs": [],
   "source": [
    "# df for modeling\n",
    "listings_model = listings[columns_to_keep].copy()"
   ]
  },
  {
   "cell_type": "code",
   "execution_count": 241,
   "metadata": {},
   "outputs": [
    {
     "name": "stdout",
     "output_type": "stream",
     "text": [
      "<class 'pandas.core.frame.DataFrame'>\n",
      "Int64Index: 4415 entries, 0 to 13180\n",
      "Data columns (total 235 columns):\n",
      " #   Column                                                  Non-Null Count  Dtype   \n",
      "---  ------                                                  --------------  -----   \n",
      " 0   host_since                                              4415 non-null   float64 \n",
      " 1   host_response_time                                      4415 non-null   category\n",
      " 2   host_response_rate                                      4415 non-null   float64 \n",
      " 3   host_acceptance_rate                                    4415 non-null   float64 \n",
      " 4   host_listings_count                                     4415 non-null   float64 \n",
      " 5   host_total_listings_count                               4415 non-null   float64 \n",
      " 6   host_is_superhost                                       4415 non-null   bool    \n",
      " 7   host_has_profile_pic                                    4415 non-null   bool    \n",
      " 8   host_identity_verified                                  4415 non-null   bool    \n",
      " 9   zipcode                                                 4350 non-null   category\n",
      " 10  latitude                                                4415 non-null   float64 \n",
      " 11  longitude                                               4415 non-null   float64 \n",
      " 12  is_location_exact                                       4415 non-null   bool    \n",
      " 13  property_type                                           4415 non-null   category\n",
      " 14  room_type                                               4415 non-null   category\n",
      " 15  accommodates                                            4415 non-null   int64   \n",
      " 16  bathrooms                                               4415 non-null   float64 \n",
      " 17  bedrooms                                                4409 non-null   float64 \n",
      " 18  beds                                                    4398 non-null   float64 \n",
      " 19  bed_type                                                4415 non-null   category\n",
      " 20  guests_included                                         4415 non-null   int64   \n",
      " 21  has_availability                                        4415 non-null   bool    \n",
      " 22  availability_30                                         4415 non-null   int64   \n",
      " 23  availability_60                                         4415 non-null   int64   \n",
      " 24  availability_90                                         4415 non-null   int64   \n",
      " 25  availability_365                                        4415 non-null   int64   \n",
      " 26  number_of_reviews                                       4415 non-null   int64   \n",
      " 27  number_of_reviews_ltm                                   4415 non-null   int64   \n",
      " 28  first_review                                            4415 non-null   float64 \n",
      " 29  last_review                                             4415 non-null   float64 \n",
      " 30  review_scores_rating                                    4415 non-null   float64 \n",
      " 31  review_scores_accuracy                                  4415 non-null   float64 \n",
      " 32  review_scores_cleanliness                               4415 non-null   float64 \n",
      " 33  review_scores_checkin                                   4415 non-null   float64 \n",
      " 34  review_scores_communication                             4415 non-null   float64 \n",
      " 35  review_scores_location                                  4415 non-null   float64 \n",
      " 36  review_scores_value                                     4415 non-null   float64 \n",
      " 37  requires_license                                        4415 non-null   bool    \n",
      " 38  instant_bookable                                        4415 non-null   bool    \n",
      " 39  is_business_travel_ready                                4415 non-null   bool    \n",
      " 40  cancellation_policy                                     4415 non-null   category\n",
      " 41  require_guest_profile_picture                           4415 non-null   bool    \n",
      " 42  require_guest_phone_verification                        4415 non-null   bool    \n",
      " 43  calculated_host_listings_count                          4415 non-null   int64   \n",
      " 44  calculated_host_listings_count_entire_homes             4415 non-null   int64   \n",
      " 45  calculated_host_listings_count_private_rooms            4415 non-null   int64   \n",
      " 46  calculated_host_listings_count_shared_rooms             4415 non-null   int64   \n",
      " 47  reviews_per_month                                       4415 non-null   float64 \n",
      " 48  price                                                   4415 non-null   float64 \n",
      " 49  amenities_\"Smoking allowed\"                             4415 non-null   bool    \n",
      " 50  amenities_\"Double oven\"                                 4415 non-null   bool    \n",
      " 51  amenities_\"Heated towel rack\"                           4415 non-null   bool    \n",
      " 52  amenities_\"Memory foam mattress\"                        4415 non-null   bool    \n",
      " 53  amenities_\"Host greets you\"                             4415 non-null   bool    \n",
      " 54  amenities_\"Pets live on this property\"                  4415 non-null   bool    \n",
      " 55  amenities_\"Lake access\"                                 4415 non-null   bool    \n",
      " 56  amenities_\"Mountain view\"                               4415 non-null   bool    \n",
      " 57  amenities_Essentials                                    4415 non-null   bool    \n",
      " 58  amenities_\"24-hour check-in\"                            4415 non-null   bool    \n",
      " 59  amenities_\"Trash can\"                                   4415 non-null   bool    \n",
      " 60  amenities_\"Cable TV\"                                    4415 non-null   bool    \n",
      " 61  amenities_\"Outdoor parking\"                             4415 non-null   bool    \n",
      " 62  amenities_\"Smart lock\"                                  4415 non-null   bool    \n",
      " 63  amenities_\"Wide entrance for guests\"                    4415 non-null   bool    \n",
      " 64  amenities_\"Pocket wifi\"                                 4415 non-null   bool    \n",
      " 65  amenities_\"No stairs or steps to enter\"                 4415 non-null   bool    \n",
      " 66  amenities_\"Wine cooler\"                                 4415 non-null   bool    \n",
      " 67  amenities_\"Patio or balcony\"                            4415 non-null   bool    \n",
      " 68  amenities_\"Amazon Echo\"                                 4415 non-null   bool    \n",
      " 69  amenities_Netflix                                       4415 non-null   bool    \n",
      " 70  amenities_Kitchen                                       4415 non-null   bool    \n",
      " 71  amenities_\"Disabled parking spot\"                       4415 non-null   bool    \n",
      " 72  amenities_\"Baby monitor\"                                4415 non-null   bool    \n",
      " 73  amenities_\"Extra pillows and blankets\"                  4415 non-null   bool    \n",
      " 74  amenities_\"Coffee maker\"                                4415 non-null   bool    \n",
      " 75  amenities_\"BBQ grill\"                                   4415 non-null   bool    \n",
      " 76  amenities_\"Family/kid friendly\"                         4415 non-null   bool    \n",
      " 77  amenities_\"Hot tub\"                                     4415 non-null   bool    \n",
      " 78  amenities_\"Fixed grab bars for shower\"                  4415 non-null   bool    \n",
      " 79  amenities_\"Wide hallways\"                               4415 non-null   bool    \n",
      " 80  amenities_\"Sound system\"                                4415 non-null   bool    \n",
      " 81  amenities_\"Hot water\"                                   4415 non-null   bool    \n",
      " 82  amenities_\"Laptop friendly workspace\"                   4415 non-null   bool    \n",
      " 83  amenities_\"Smart TV\"                                    4415 non-null   bool    \n",
      " 84  amenities_\"Firm mattress\"                               4415 non-null   bool    \n",
      " 85  amenities_\"Convection oven\"                             4415 non-null   bool    \n",
      " 86  amenities_\"En suite bathroom\"                           4415 non-null   bool    \n",
      " 87  amenities_Wifi                                          4415 non-null   bool    \n",
      " 88  amenities_\"Changing table\"                              4415 non-null   bool    \n",
      " 89  amenities_\"Private pool\"                                4415 non-null   bool    \n",
      " 90  amenities_\"Stair gates\"                                 4415 non-null   bool    \n",
      " 91  amenities_\"Central air conditioning\"                    4415 non-null   bool    \n",
      " 92  amenities_\"Free street parking\"                         4415 non-null   bool    \n",
      " 93  amenities_\"Self check-in\"                               4415 non-null   bool    \n",
      " 94  amenities_\"Formal dining area\"                          4415 non-null   bool    \n",
      " 95  amenities_\"Window guards\"                               4415 non-null   bool    \n",
      " 96  amenities_\"Outdoor seating\"                             4415 non-null   bool    \n",
      " 97  amenities_\"Children’s books and toys\"                   4415 non-null   bool    \n",
      " 98  amenities_\"Safety card\"                                 4415 non-null   bool    \n",
      " 99  amenities_\"Paid parking on premises\"                    4415 non-null   bool    \n",
      " 100 amenities_\"Building staff\"                              4415 non-null   bool    \n",
      " 101 amenities_\"Toilet paper\"                                4415 non-null   bool    \n",
      " 102 amenities_\"Game console\"                                4415 non-null   bool    \n",
      " 103 amenities_\"Wide entrance\"                               4415 non-null   bool    \n",
      " 104 amenities_Ski-in/Ski-out                                4415 non-null   bool    \n",
      " 105 amenities_\"Other pet(s)\"                                4415 non-null   bool    \n",
      " 106 amenities_\"Handheld shower head\"                        4415 non-null   bool    \n",
      " 107 amenities_\"Barbecue utensils\"                           4415 non-null   bool    \n",
      " 108 amenities_\"Luggage dropoff allowed\"                     4415 non-null   bool    \n",
      " 109 amenities_\"Baking sheet\"                                4415 non-null   bool    \n",
      " 110 amenities_\"Breakfast table\"                             4415 non-null   bool    \n",
      " 111 amenities_\"Suitable for events\"                         4415 non-null   bool    \n",
      " 112 amenities_Refrigerator                                  4415 non-null   bool    \n",
      " 113 amenities_Dog(s)                                        4415 non-null   bool    \n",
      " 114 amenities_Lockbox                                       4415 non-null   bool    \n",
      " 115 amenities_\"Single level home\"                           4415 non-null   bool    \n",
      " 116 amenities_Pool                                          4415 non-null   bool    \n",
      " 117 amenities_\"Babysitter recommendations\"                  4415 non-null   bool    \n",
      " 118 amenities_\"Bread maker\"                                 4415 non-null   bool    \n",
      " 119 amenities_\"Bed linens\"                                  4415 non-null   bool    \n",
      " 120 amenities_\"Full kitchen\"                                4415 non-null   bool    \n",
      " 121 amenities_\"Free parking on premises\"                    4415 non-null   bool    \n",
      " 122 amenities_\"Fireplace guards\"                            4415 non-null   bool    \n",
      " 123 amenities_Cat(s)                                        4415 non-null   bool    \n",
      " 124 amenities_\"Dishes and silverware\"                       4415 non-null   bool    \n",
      " 125 amenities_\"Mini fridge\"                                 4415 non-null   bool    \n",
      " 126 amenities_Dryer                                         4415 non-null   bool    \n",
      " 127 amenities_\"Heated floors\"                               4415 non-null   bool    \n",
      " 128 amenities_\"High chair\"                                  4415 non-null   bool    \n",
      " 129 amenities_\"Gas oven\"                                    4415 non-null   bool    \n",
      " 130 amenities_Doorman                                       4415 non-null   bool    \n",
      " 131 amenities_Balcony                                       4415 non-null   bool    \n",
      " 132 amenities_\"Bathroom essentials\"                         4415 non-null   bool    \n",
      " 133 amenities_\"Fire extinguisher\"                           4415 non-null   bool    \n",
      " 134 amenities_\"Room-darkening shades\"                       4415 non-null   bool    \n",
      " 135 amenities_\"Accessible-height bed\"                       4415 non-null   bool    \n",
      " 136 amenities_\"Garden or backyard\"                          4415 non-null   bool    \n",
      " 137 amenities_\"Indoor fireplace\"                            4415 non-null   bool    \n",
      " 138 amenities_Shampoo                                       4415 non-null   bool    \n",
      " 139 amenities_\"Projector and screen\"                        4415 non-null   bool    \n",
      " 140 amenities_Hangers                                       4415 non-null   bool    \n",
      " 141 amenities_Keypad                                        4415 non-null   bool    \n",
      " 142 amenities_Dishwasher                                    4415 non-null   bool    \n",
      " 143 amenities_\"Wide doorway to guest bathroom\"              4415 non-null   bool    \n",
      " 144 amenities_\"DVD player\"                                  4415 non-null   bool    \n",
      " 145 amenities_Other                                         4415 non-null   bool    \n",
      " 146 amenities_Stove                                         4415 non-null   bool    \n",
      " 147 amenities_\"Paid parking off premises\"                   4415 non-null   bool    \n",
      " 148 amenities_\"translation missing: en.hosting_amenity_50\"  4415 non-null   bool    \n",
      " 149 amenities_\"Extra space around bed\"                      4415 non-null   bool    \n",
      " 150 amenities_\"Shower chair\"                                4415 non-null   bool    \n",
      " 151 amenities_Washer/Dryer                                  4415 non-null   bool    \n",
      " 152 amenities_\"Hair dryer\"                                  4415 non-null   bool    \n",
      " 153 amenities_\"Bath towel\"                                  4415 non-null   bool    \n",
      " 154 amenities_\"Lock on bedroom door\"                        4415 non-null   bool    \n",
      " 155 amenities_Beachfront                                    4415 non-null   bool    \n",
      " 156 amenities_Kitchenette                                   4415 non-null   bool    \n",
      " 157 amenities_\"Bathtub with bath chair\"                     4415 non-null   bool    \n",
      " 158 amenities_\"Outlet covers\"                               4415 non-null   bool    \n",
      " 159 amenities_\"Soaking tub\"                                 4415 non-null   bool    \n",
      " 160 amenities_\"Wheelchair accessible\"                       4415 non-null   bool    \n",
      " 161 amenities_\"Beach essentials\"                            4415 non-null   bool    \n",
      " 162 amenities_\"Pack ’n Play/travel crib\"                    4415 non-null   bool    \n",
      " 163 amenities_\"Ceiling fan\"                                 4415 non-null   bool    \n",
      " 164 amenities_\"HBO GO\"                                      4415 non-null   bool    \n",
      " 165 amenities_\"Step-free shower\"                            4415 non-null   bool    \n",
      " 166 amenities_Terrace                                       4415 non-null   bool    \n",
      " 167 amenities_Gym                                           4415 non-null   bool    \n",
      " 168 amenities_\"Accessible-height toilet\"                    4415 non-null   bool    \n",
      " 169 amenities_\"EV charger\"                                  4415 non-null   bool    \n",
      " 170 amenities_\"Buzzer/wireless intercom\"                    4415 non-null   bool    \n",
      " 171 amenities_\"Well-lit path to entrance\"                   4415 non-null   bool    \n",
      " 172 amenities_\"Ethernet connection\"                         4415 non-null   bool    \n",
      " 173 amenities_\"First aid kit\"                               4415 non-null   bool    \n",
      " 174 amenities_\"Espresso machine\"                            4415 non-null   bool    \n",
      " 175 amenities_\"Cleaning before checkout\"                    4415 non-null   bool    \n",
      " 176 amenities_\"Pool cover\"                                  4415 non-null   bool    \n",
      " 177 amenities_Breakfast                                     4415 non-null   bool    \n",
      " 178 amenities_\"Carbon monoxide detector\"                    4415 non-null   bool    \n",
      " 179 amenities_\"Private living room\"                         4415 non-null   bool    \n",
      " 180 amenities_\"Flat path to guest entrance\"                 4415 non-null   bool    \n",
      " 181 amenities_\"Hot water kettle\"                            4415 non-null   bool    \n",
      " 182 amenities_\"Walk-in shower\"                              4415 non-null   bool    \n",
      " 183 amenities_\"Private entrance\"                            4415 non-null   bool    \n",
      " 184 amenities_\"Children’s dinnerware\"                       4415 non-null   bool    \n",
      " 185 amenities_\"Smoke detector\"                              4415 non-null   bool    \n",
      " 186 amenities_\"Fixed grab bars for toilet\"                  4415 non-null   bool    \n",
      " 187 amenities_\"High-resolution computer monitor\"            4415 non-null   bool    \n",
      " 188 amenities_TV                                            4415 non-null   bool    \n",
      " 189 amenities_\"Rain shower\"                                 4415 non-null   bool    \n",
      " 190 amenities_\"Sun loungers\"                                4415 non-null   bool    \n",
      " 191 amenities_\"Ground floor access\"                         4415 non-null   bool    \n",
      " 192 amenities_Oven                                          4415 non-null   bool    \n",
      " 193 amenities_\"Shower gel\"                                  4415 non-null   bool    \n",
      " 194 amenities_\"translation missing: en.hosting_amenity_49\"  4415 non-null   bool    \n",
      " 195 amenities_\"Pets allowed\"                                4415 non-null   bool    \n",
      " 196 amenities_Internet                                      4415 non-null   bool    \n",
      " 197 amenities_Heating                                       4415 non-null   bool    \n",
      " 198 amenities_\"Baby bath\"                                   4415 non-null   bool    \n",
      " 199 amenities_\"Table corner guards\"                         4415 non-null   bool    \n",
      " 200 amenities_\"Long term stays allowed\"                     4415 non-null   bool    \n",
      " 201 amenities_\"Body soap\"                                   4415 non-null   bool    \n",
      " 202 amenities_\"Pool toys\"                                   4415 non-null   bool    \n",
      " 203 amenities_Bathtub                                       4415 non-null   bool    \n",
      " 204 amenities_Washer                                        4415 non-null   bool    \n",
      " 205 amenities_\"Wide entryway\"                               4415 non-null   bool    \n",
      " 206 amenities_\"Exercise equipment\"                          4415 non-null   bool    \n",
      " 207 amenities_Microwave                                     4415 non-null   bool    \n",
      " 208 amenities_Crib                                          4415 non-null   bool    \n",
      " 209 amenities_Elevator                                      4415 non-null   bool    \n",
      " 210 amenities_\"Air conditioning\"                            4415 non-null   bool    \n",
      " 211 amenities_Iron                                          4415 non-null   bool    \n",
      " 212 amenities_Waterfront                                    4415 non-null   bool    \n",
      " 213 amenities_\"Cooking basics\"                              4415 non-null   bool    \n",
      " 214 amenities_\"Day bed\"                                     4415 non-null   bool    \n",
      " 215 amenities_\"Bedroom comforts\"                            4415 non-null   bool    \n",
      " 216 amenities_\"Wide clearance to shower, toilet\"            4415 non-null   bool    \n",
      " 217 host_verifications_facebook                             4415 non-null   bool    \n",
      " 218 host_verifications_google                               4415 non-null   bool    \n",
      " 219 host_verifications_government_id                        4415 non-null   bool    \n",
      " 220 host_verifications_identity_manual                      4415 non-null   bool    \n",
      " 221 host_verifications_jumio                                4415 non-null   bool    \n",
      " 222 host_verifications_kba                                  4415 non-null   bool    \n",
      " 223 host_verifications_manual_offline                       4415 non-null   bool    \n",
      " 224 host_verifications_manual_online                        4415 non-null   bool    \n",
      " 225 host_verifications_offline_government_id                4415 non-null   bool    \n",
      " 226 host_verifications_phone                                4415 non-null   bool    \n",
      " 227 host_verifications_reviews                              4415 non-null   bool    \n",
      " 228 host_verifications_selfie                               4415 non-null   bool    \n",
      " 229 host_verifications_sent_id                              4415 non-null   bool    \n",
      " 230 host_verifications_sesame                               4415 non-null   bool    \n",
      " 231 host_verifications_sesame_offline                       4415 non-null   bool    \n",
      " 232 host_verifications_work_email                           4415 non-null   bool    \n",
      " 233 host_verifications_zhima_selfie                         4415 non-null   bool    \n",
      " 234 host_verifications_email                                4415 non-null   bool    \n",
      "dtypes: bool(196), category(6), float64(21), int64(12)\n",
      "memory usage: 2.0 MB\n"
     ]
    }
   ],
   "source": [
    "listings_model.info(null_counts=True, verbose=True)"
   ]
  },
  {
   "cell_type": "markdown",
   "metadata": {},
   "source": [
    "Use mean imputation for na values, only very few cases."
   ]
  },
  {
   "cell_type": "code",
   "execution_count": 242,
   "metadata": {},
   "outputs": [],
   "source": [
    "listings_model = pd.get_dummies(listings_model, columns = categorical_columns,)"
   ]
  },
  {
   "cell_type": "markdown",
   "metadata": {},
   "source": [
    "# Prepare for modelling"
   ]
  },
  {
   "cell_type": "markdown",
   "metadata": {},
   "source": [
    "Split in features and target and keep 20 % for evaluation. Impute with mean using the SimpleImputer from sklearn."
   ]
  },
  {
   "cell_type": "code",
   "execution_count": 243,
   "metadata": {},
   "outputs": [],
   "source": [
    "X = listings_model.drop(columns='host_is_superhost')\n",
    "y = listings_model['host_is_superhost']"
   ]
  },
  {
   "cell_type": "code",
   "execution_count": 244,
   "metadata": {},
   "outputs": [],
   "source": [
    "X_train, X_test, y_train, y_test = train_test_split(X,y, test_size=0.2)"
   ]
  },
  {
   "cell_type": "code",
   "execution_count": 245,
   "metadata": {},
   "outputs": [],
   "source": [
    "si = SimpleImputer(missing_values=np.nan)"
   ]
  },
  {
   "cell_type": "code",
   "execution_count": 246,
   "metadata": {},
   "outputs": [],
   "source": [
    "X_train = si.fit_transform(X_train)"
   ]
  },
  {
   "cell_type": "markdown",
   "metadata": {},
   "source": [
    "## Modelling"
   ]
  },
  {
   "cell_type": "markdown",
   "metadata": {},
   "source": [
    "We use decision trees and random forests, both default but also with crossvalidation. Since the classes are almost balanced, the difference between accuracy and balanced accuracy shouldn't be too big."
   ]
  },
  {
   "cell_type": "markdown",
   "metadata": {},
   "source": [
    "### Decision Tree"
   ]
  },
  {
   "cell_type": "code",
   "execution_count": 247,
   "metadata": {},
   "outputs": [
    {
     "data": {
      "text/plain": [
       "DecisionTreeClassifier(ccp_alpha=0.0, class_weight=None, criterion='gini',\n",
       "                       max_depth=None, max_features=None, max_leaf_nodes=None,\n",
       "                       min_impurity_decrease=0.0, min_impurity_split=None,\n",
       "                       min_samples_leaf=1, min_samples_split=2,\n",
       "                       min_weight_fraction_leaf=0.0, presort='deprecated',\n",
       "                       random_state=None, splitter='best')"
      ]
     },
     "execution_count": 247,
     "metadata": {},
     "output_type": "execute_result"
    }
   ],
   "source": [
    "dt = DecisionTreeClassifier()\n",
    "dt.fit(X_train, y_train)"
   ]
  },
  {
   "cell_type": "code",
   "execution_count": 248,
   "metadata": {},
   "outputs": [],
   "source": [
    "def print_metrics(model):\n",
    "    \"\"\"\n",
    "    print a few scores for the input model evaluated on the test set\n",
    "    \"\"\"\n",
    "    y_pred = model.predict(si.transform(X_test))\n",
    "    print(\"Accuracy:\", accuracy_score(y_test, y_pred))\n",
    "    print(\"Balanced accuracy:\", balanced_accuracy_score(y_test, y_pred))\n",
    "    print(\"Confusion matrix:\")\n",
    "    plot_confusion_matrix(model, si.transform(X_test), y_test)"
   ]
  },
  {
   "cell_type": "code",
   "execution_count": 249,
   "metadata": {},
   "outputs": [
    {
     "name": "stdout",
     "output_type": "stream",
     "text": [
      "Accuracy: 0.7859569648924122\n",
      "Balanced accuracy: 0.7810460742341743\n",
      "Confusion matrix:\n"
     ]
    },
    {
     "data": {
      "image/png": "[encoded data removed]",
      "text/plain": [
       "<Figure size 432x288 with 2 Axes>"
      ]
     },
     "metadata": {
      "needs_background": "light"
     },
     "output_type": "display_data"
    }
   ],
   "source": [
    "print_metrics(dt)"
   ]
  },
  {
   "cell_type": "markdown",
   "metadata": {},
   "source": [
    "### Decision tree with hyperparameter search and cross-validation"
   ]
  },
  {
   "cell_type": "code",
   "execution_count": 250,
   "metadata": {},
   "outputs": [],
   "source": [
    "parameters = {\n",
    "    'max_depth':[5,10,20,50,None],\n",
    "    'min_samples_split':[2,5,10,20,50]\n",
    "}"
   ]
  },
  {
   "cell_type": "code",
   "execution_count": 251,
   "metadata": {
    "scrolled": true
   },
   "outputs": [
    {
     "name": "stdout",
     "output_type": "stream",
     "text": [
      "Fitting 5 folds for each of 25 candidates, totalling 125 fits\n",
      "[CV] max_depth=5, min_samples_split=2 ................................\n",
      "[CV] .... max_depth=5, min_samples_split=2, score=0.844, total=   0.1s\n",
      "[CV] max_depth=5, min_samples_split=2 ................................\n",
      "[CV] .... max_depth=5, min_samples_split=2, score=0.844, total=   0.1s\n",
      "[CV] max_depth=5, min_samples_split=2 ................................\n",
      "[CV] .... max_depth=5, min_samples_split=2, score=0.841, total=   0.1s\n",
      "[CV] max_depth=5, min_samples_split=2 ................................\n"
     ]
    },
    {
     "name": "stderr",
     "output_type": "stream",
     "text": [
      "[Parallel(n_jobs=1)]: Using backend SequentialBackend with 1 concurrent workers.\n",
      "[Parallel(n_jobs=1)]: Done   1 out of   1 | elapsed:    0.1s remaining:    0.0s\n",
      "[Parallel(n_jobs=1)]: Done   2 out of   2 | elapsed:    0.1s remaining:    0.0s\n",
      "[Parallel(n_jobs=1)]: Done   3 out of   3 | elapsed:    0.2s remaining:    0.0s\n"
     ]
    },
    {
     "name": "stdout",
     "output_type": "stream",
     "text": [
      "[CV] .... max_depth=5, min_samples_split=2, score=0.819, total=   0.1s\n",
      "[CV] max_depth=5, min_samples_split=2 ................................\n",
      "[CV] .... max_depth=5, min_samples_split=2, score=0.830, total=   0.1s\n",
      "[CV] max_depth=5, min_samples_split=5 ................................\n",
      "[CV] .... max_depth=5, min_samples_split=5, score=0.844, total=   0.0s\n",
      "[CV] max_depth=5, min_samples_split=5 ................................\n",
      "[CV] .... max_depth=5, min_samples_split=5, score=0.846, total=   0.1s\n",
      "[CV] max_depth=5, min_samples_split=5 ................................\n"
     ]
    },
    {
     "name": "stderr",
     "output_type": "stream",
     "text": [
      "[Parallel(n_jobs=1)]: Done   4 out of   4 | elapsed:    0.3s remaining:    0.0s\n",
      "[Parallel(n_jobs=1)]: Done   5 out of   5 | elapsed:    0.3s remaining:    0.0s\n",
      "[Parallel(n_jobs=1)]: Done   6 out of   6 | elapsed:    0.4s remaining:    0.0s\n",
      "[Parallel(n_jobs=1)]: Done   7 out of   7 | elapsed:    0.4s remaining:    0.0s\n"
     ]
    },
    {
     "name": "stdout",
     "output_type": "stream",
     "text": [
      "[CV] .... max_depth=5, min_samples_split=5, score=0.841, total=   0.1s\n",
      "[CV] max_depth=5, min_samples_split=5 ................................\n",
      "[CV] .... max_depth=5, min_samples_split=5, score=0.817, total=   0.1s\n",
      "[CV] max_depth=5, min_samples_split=5 ................................\n",
      "[CV] .... max_depth=5, min_samples_split=5, score=0.827, total=   0.1s\n",
      "[CV] max_depth=5, min_samples_split=10 ...............................\n",
      "[CV] ... max_depth=5, min_samples_split=10, score=0.844, total=   0.1s\n",
      "[CV] max_depth=5, min_samples_split=10 ...............................\n"
     ]
    },
    {
     "name": "stderr",
     "output_type": "stream",
     "text": [
      "[Parallel(n_jobs=1)]: Done   8 out of   8 | elapsed:    0.5s remaining:    0.0s\n",
      "[Parallel(n_jobs=1)]: Done   9 out of   9 | elapsed:    0.5s remaining:    0.0s\n"
     ]
    },
    {
     "name": "stdout",
     "output_type": "stream",
     "text": [
      "[CV] ... max_depth=5, min_samples_split=10, score=0.846, total=   0.1s\n",
      "[CV] max_depth=5, min_samples_split=10 ...............................\n",
      "[CV] ... max_depth=5, min_samples_split=10, score=0.841, total=   0.1s\n",
      "[CV] max_depth=5, min_samples_split=10 ...............................\n",
      "[CV] ... max_depth=5, min_samples_split=10, score=0.817, total=   0.1s\n",
      "[CV] max_depth=5, min_samples_split=10 ...............................\n",
      "[CV] ... max_depth=5, min_samples_split=10, score=0.829, total=   0.1s\n",
      "[CV] max_depth=5, min_samples_split=20 ...............................\n",
      "[CV] ... max_depth=5, min_samples_split=20, score=0.844, total=   0.1s\n",
      "[CV] max_depth=5, min_samples_split=20 ...............................\n",
      "[CV] ... max_depth=5, min_samples_split=20, score=0.846, total=   0.1s\n",
      "[CV] max_depth=5, min_samples_split=20 ...............................\n",
      "[CV] ... max_depth=5, min_samples_split=20, score=0.841, total=   0.1s\n",
      "[CV] max_depth=5, min_samples_split=20 ...............................\n",
      "[CV] ... max_depth=5, min_samples_split=20, score=0.817, total=   0.1s\n",
      "[CV] max_depth=5, min_samples_split=20 ...............................\n",
      "[CV] ... max_depth=5, min_samples_split=20, score=0.827, total=   0.1s\n",
      "[CV] max_depth=5, min_samples_split=50 ...............................\n",
      "[CV] ... max_depth=5, min_samples_split=50, score=0.843, total=   0.1s\n",
      "[CV] max_depth=5, min_samples_split=50 ...............................\n",
      "[CV] ... max_depth=5, min_samples_split=50, score=0.846, total=   0.0s\n",
      "[CV] max_depth=5, min_samples_split=50 ...............................\n",
      "[CV] ... max_depth=5, min_samples_split=50, score=0.843, total=   0.0s\n",
      "[CV] max_depth=5, min_samples_split=50 ...............................\n",
      "[CV] ... max_depth=5, min_samples_split=50, score=0.819, total=   0.0s\n",
      "[CV] max_depth=5, min_samples_split=50 ...............................\n",
      "[CV] ... max_depth=5, min_samples_split=50, score=0.827, total=   0.1s\n",
      "[CV] max_depth=10, min_samples_split=2 ...............................\n",
      "[CV] ... max_depth=10, min_samples_split=2, score=0.815, total=   0.1s\n",
      "[CV] max_depth=10, min_samples_split=2 ...............................\n",
      "[CV] ... max_depth=10, min_samples_split=2, score=0.812, total=   0.1s\n",
      "[CV] max_depth=10, min_samples_split=2 ...............................\n",
      "[CV] ... max_depth=10, min_samples_split=2, score=0.800, total=   0.1s\n",
      "[CV] max_depth=10, min_samples_split=2 ...............................\n",
      "[CV] ... max_depth=10, min_samples_split=2, score=0.807, total=   0.1s\n",
      "[CV] max_depth=10, min_samples_split=2 ...............................\n",
      "[CV] ... max_depth=10, min_samples_split=2, score=0.807, total=   0.1s\n",
      "[CV] max_depth=10, min_samples_split=5 ...............................\n",
      "[CV] ... max_depth=10, min_samples_split=5, score=0.826, total=   0.1s\n",
      "[CV] max_depth=10, min_samples_split=5 ...............................\n",
      "[CV] ... max_depth=10, min_samples_split=5, score=0.816, total=   0.1s\n",
      "[CV] max_depth=10, min_samples_split=5 ...............................\n",
      "[CV] ... max_depth=10, min_samples_split=5, score=0.796, total=   0.1s\n",
      "[CV] max_depth=10, min_samples_split=5 ...............................\n",
      "[CV] ... max_depth=10, min_samples_split=5, score=0.807, total=   0.1s\n",
      "[CV] max_depth=10, min_samples_split=5 ...............................\n",
      "[CV] ... max_depth=10, min_samples_split=5, score=0.803, total=   0.1s\n",
      "[CV] max_depth=10, min_samples_split=10 ..............................\n",
      "[CV] .. max_depth=10, min_samples_split=10, score=0.822, total=   0.1s\n",
      "[CV] max_depth=10, min_samples_split=10 ..............................\n",
      "[CV] .. max_depth=10, min_samples_split=10, score=0.813, total=   0.1s\n",
      "[CV] max_depth=10, min_samples_split=10 ..............................\n",
      "[CV] .. max_depth=10, min_samples_split=10, score=0.802, total=   0.1s\n",
      "[CV] max_depth=10, min_samples_split=10 ..............................\n",
      "[CV] .. max_depth=10, min_samples_split=10, score=0.802, total=   0.1s\n",
      "[CV] max_depth=10, min_samples_split=10 ..............................\n",
      "[CV] .. max_depth=10, min_samples_split=10, score=0.806, total=   0.1s\n",
      "[CV] max_depth=10, min_samples_split=20 ..............................\n",
      "[CV] .. max_depth=10, min_samples_split=20, score=0.819, total=   0.1s\n",
      "[CV] max_depth=10, min_samples_split=20 ..............................\n",
      "[CV] .. max_depth=10, min_samples_split=20, score=0.816, total=   0.1s\n",
      "[CV] max_depth=10, min_samples_split=20 ..............................\n",
      "[CV] .. max_depth=10, min_samples_split=20, score=0.806, total=   0.1s\n",
      "[CV] max_depth=10, min_samples_split=20 ..............................\n",
      "[CV] .. max_depth=10, min_samples_split=20, score=0.807, total=   0.1s\n",
      "[CV] max_depth=10, min_samples_split=20 ..............................\n",
      "[CV] .. max_depth=10, min_samples_split=20, score=0.814, total=   0.1s\n",
      "[CV] max_depth=10, min_samples_split=50 ..............................\n",
      "[CV] .. max_depth=10, min_samples_split=50, score=0.830, total=   0.1s\n",
      "[CV] max_depth=10, min_samples_split=50 ..............................\n",
      "[CV] .. max_depth=10, min_samples_split=50, score=0.815, total=   0.1s\n",
      "[CV] max_depth=10, min_samples_split=50 ..............................\n",
      "[CV] .. max_depth=10, min_samples_split=50, score=0.823, total=   0.1s\n",
      "[CV] max_depth=10, min_samples_split=50 ..............................\n",
      "[CV] .. max_depth=10, min_samples_split=50, score=0.819, total=   0.1s\n",
      "[CV] max_depth=10, min_samples_split=50 ..............................\n",
      "[CV] .. max_depth=10, min_samples_split=50, score=0.814, total=   0.1s\n",
      "[CV] max_depth=20, min_samples_split=2 ...............................\n",
      "[CV] ... max_depth=20, min_samples_split=2, score=0.799, total=   0.1s\n",
      "[CV] max_depth=20, min_samples_split=2 ...............................\n",
      "[CV] ... max_depth=20, min_samples_split=2, score=0.774, total=   0.1s\n",
      "[CV] max_depth=20, min_samples_split=2 ...............................\n",
      "[CV] ... max_depth=20, min_samples_split=2, score=0.778, total=   0.1s\n",
      "[CV] max_depth=20, min_samples_split=2 ...............................\n",
      "[CV] ... max_depth=20, min_samples_split=2, score=0.797, total=   0.1s\n",
      "[CV] max_depth=20, min_samples_split=2 ...............................\n",
      "[CV] ... max_depth=20, min_samples_split=2, score=0.797, total=   0.1s\n",
      "[CV] max_depth=20, min_samples_split=5 ...............................\n",
      "[CV] ... max_depth=20, min_samples_split=5, score=0.793, total=   0.1s\n",
      "[CV] max_depth=20, min_samples_split=5 ...............................\n",
      "[CV] ... max_depth=20, min_samples_split=5, score=0.793, total=   0.1s\n",
      "[CV] max_depth=20, min_samples_split=5 ...............................\n",
      "[CV] ... max_depth=20, min_samples_split=5, score=0.783, total=   0.1s\n",
      "[CV] max_depth=20, min_samples_split=5 ...............................\n",
      "[CV] ... max_depth=20, min_samples_split=5, score=0.799, total=   0.1s\n",
      "[CV] max_depth=20, min_samples_split=5 ...............................\n",
      "[CV] ... max_depth=20, min_samples_split=5, score=0.783, total=   0.1s\n",
      "[CV] max_depth=20, min_samples_split=10 ..............................\n",
      "[CV] .. max_depth=20, min_samples_split=10, score=0.779, total=   0.1s\n",
      "[CV] max_depth=20, min_samples_split=10 ..............................\n",
      "[CV] .. max_depth=20, min_samples_split=10, score=0.792, total=   0.1s\n",
      "[CV] max_depth=20, min_samples_split=10 ..............................\n",
      "[CV] .. max_depth=20, min_samples_split=10, score=0.782, total=   0.1s\n",
      "[CV] max_depth=20, min_samples_split=10 ..............................\n",
      "[CV] .. max_depth=20, min_samples_split=10, score=0.797, total=   0.1s\n",
      "[CV] max_depth=20, min_samples_split=10 ..............................\n",
      "[CV] .. max_depth=20, min_samples_split=10, score=0.793, total=   0.1s\n",
      "[CV] max_depth=20, min_samples_split=20 ..............................\n",
      "[CV] .. max_depth=20, min_samples_split=20, score=0.798, total=   0.1s\n",
      "[CV] max_depth=20, min_samples_split=20 ..............................\n",
      "[CV] .. max_depth=20, min_samples_split=20, score=0.795, total=   0.1s\n",
      "[CV] max_depth=20, min_samples_split=20 ..............................\n",
      "[CV] .. max_depth=20, min_samples_split=20, score=0.795, total=   0.1s\n",
      "[CV] max_depth=20, min_samples_split=20 ..............................\n",
      "[CV] .. max_depth=20, min_samples_split=20, score=0.796, total=   0.1s\n",
      "[CV] max_depth=20, min_samples_split=20 ..............................\n",
      "[CV] .. max_depth=20, min_samples_split=20, score=0.807, total=   0.1s\n",
      "[CV] max_depth=20, min_samples_split=50 ..............................\n",
      "[CV] .. max_depth=20, min_samples_split=50, score=0.822, total=   0.1s\n",
      "[CV] max_depth=20, min_samples_split=50 ..............................\n",
      "[CV] .. max_depth=20, min_samples_split=50, score=0.796, total=   0.1s\n",
      "[CV] max_depth=20, min_samples_split=50 ..............................\n",
      "[CV] .. max_depth=20, min_samples_split=50, score=0.814, total=   0.1s\n",
      "[CV] max_depth=20, min_samples_split=50 ..............................\n",
      "[CV] .. max_depth=20, min_samples_split=50, score=0.807, total=   0.1s\n",
      "[CV] max_depth=20, min_samples_split=50 ..............................\n",
      "[CV] .. max_depth=20, min_samples_split=50, score=0.813, total=   0.1s\n",
      "[CV] max_depth=50, min_samples_split=2 ...............................\n",
      "[CV] ... max_depth=50, min_samples_split=2, score=0.796, total=   0.1s\n",
      "[CV] max_depth=50, min_samples_split=2 ...............................\n",
      "[CV] ... max_depth=50, min_samples_split=2, score=0.792, total=   0.1s\n",
      "[CV] max_depth=50, min_samples_split=2 ...............................\n",
      "[CV] ... max_depth=50, min_samples_split=2, score=0.790, total=   0.1s\n",
      "[CV] max_depth=50, min_samples_split=2 ...............................\n",
      "[CV] ... max_depth=50, min_samples_split=2, score=0.805, total=   0.1s\n",
      "[CV] max_depth=50, min_samples_split=2 ...............................\n",
      "[CV] ... max_depth=50, min_samples_split=2, score=0.790, total=   0.1s\n",
      "[CV] max_depth=50, min_samples_split=5 ...............................\n",
      "[CV] ... max_depth=50, min_samples_split=5, score=0.785, total=   0.1s\n",
      "[CV] max_depth=50, min_samples_split=5 ...............................\n",
      "[CV] ... max_depth=50, min_samples_split=5, score=0.788, total=   0.1s\n",
      "[CV] max_depth=50, min_samples_split=5 ...............................\n",
      "[CV] ... max_depth=50, min_samples_split=5, score=0.772, total=   0.1s\n",
      "[CV] max_depth=50, min_samples_split=5 ...............................\n",
      "[CV] ... max_depth=50, min_samples_split=5, score=0.806, total=   0.1s\n",
      "[CV] max_depth=50, min_samples_split=5 ...............................\n",
      "[CV] ... max_depth=50, min_samples_split=5, score=0.783, total=   0.1s\n",
      "[CV] max_depth=50, min_samples_split=10 ..............................\n",
      "[CV] .. max_depth=50, min_samples_split=10, score=0.778, total=   0.1s\n",
      "[CV] max_depth=50, min_samples_split=10 ..............................\n",
      "[CV] .. max_depth=50, min_samples_split=10, score=0.803, total=   0.1s\n",
      "[CV] max_depth=50, min_samples_split=10 ..............................\n",
      "[CV] .. max_depth=50, min_samples_split=10, score=0.780, total=   0.1s\n",
      "[CV] max_depth=50, min_samples_split=10 ..............................\n",
      "[CV] .. max_depth=50, min_samples_split=10, score=0.797, total=   0.1s\n",
      "[CV] max_depth=50, min_samples_split=10 ..............................\n",
      "[CV] .. max_depth=50, min_samples_split=10, score=0.783, total=   0.1s\n",
      "[CV] max_depth=50, min_samples_split=20 ..............................\n",
      "[CV] .. max_depth=50, min_samples_split=20, score=0.796, total=   0.1s\n",
      "[CV] max_depth=50, min_samples_split=20 ..............................\n",
      "[CV] .. max_depth=50, min_samples_split=20, score=0.793, total=   0.1s\n",
      "[CV] max_depth=50, min_samples_split=20 ..............................\n",
      "[CV] .. max_depth=50, min_samples_split=20, score=0.793, total=   0.1s\n",
      "[CV] max_depth=50, min_samples_split=20 ..............................\n",
      "[CV] .. max_depth=50, min_samples_split=20, score=0.792, total=   0.1s\n",
      "[CV] max_depth=50, min_samples_split=20 ..............................\n",
      "[CV] .. max_depth=50, min_samples_split=20, score=0.803, total=   0.1s\n",
      "[CV] max_depth=50, min_samples_split=50 ..............................\n",
      "[CV] .. max_depth=50, min_samples_split=50, score=0.823, total=   0.1s\n",
      "[CV] max_depth=50, min_samples_split=50 ..............................\n",
      "[CV] .. max_depth=50, min_samples_split=50, score=0.806, total=   0.1s\n",
      "[CV] max_depth=50, min_samples_split=50 ..............................\n",
      "[CV] .. max_depth=50, min_samples_split=50, score=0.816, total=   0.1s\n",
      "[CV] max_depth=50, min_samples_split=50 ..............................\n",
      "[CV] .. max_depth=50, min_samples_split=50, score=0.816, total=   0.1s\n",
      "[CV] max_depth=50, min_samples_split=50 ..............................\n",
      "[CV] .. max_depth=50, min_samples_split=50, score=0.812, total=   0.1s\n",
      "[CV] max_depth=None, min_samples_split=2 .............................\n",
      "[CV] . max_depth=None, min_samples_split=2, score=0.786, total=   0.1s\n",
      "[CV] max_depth=None, min_samples_split=2 .............................\n",
      "[CV] . max_depth=None, min_samples_split=2, score=0.785, total=   0.1s\n",
      "[CV] max_depth=None, min_samples_split=2 .............................\n",
      "[CV] . max_depth=None, min_samples_split=2, score=0.785, total=   0.1s\n",
      "[CV] max_depth=None, min_samples_split=2 .............................\n",
      "[CV] . max_depth=None, min_samples_split=2, score=0.805, total=   0.1s\n",
      "[CV] max_depth=None, min_samples_split=2 .............................\n",
      "[CV] . max_depth=None, min_samples_split=2, score=0.793, total=   0.1s\n",
      "[CV] max_depth=None, min_samples_split=5 .............................\n",
      "[CV] . max_depth=None, min_samples_split=5, score=0.793, total=   0.1s\n",
      "[CV] max_depth=None, min_samples_split=5 .............................\n",
      "[CV] . max_depth=None, min_samples_split=5, score=0.795, total=   0.1s\n",
      "[CV] max_depth=None, min_samples_split=5 .............................\n",
      "[CV] . max_depth=None, min_samples_split=5, score=0.782, total=   0.1s\n",
      "[CV] max_depth=None, min_samples_split=5 .............................\n",
      "[CV] . max_depth=None, min_samples_split=5, score=0.795, total=   0.1s\n",
      "[CV] max_depth=None, min_samples_split=5 .............................\n",
      "[CV] . max_depth=None, min_samples_split=5, score=0.785, total=   0.1s\n",
      "[CV] max_depth=None, min_samples_split=10 ............................\n",
      "[CV]  max_depth=None, min_samples_split=10, score=0.782, total=   0.1s\n",
      "[CV] max_depth=None, min_samples_split=10 ............................\n",
      "[CV]  max_depth=None, min_samples_split=10, score=0.796, total=   0.1s\n",
      "[CV] max_depth=None, min_samples_split=10 ............................\n",
      "[CV]  max_depth=None, min_samples_split=10, score=0.786, total=   0.2s\n",
      "[CV] max_depth=None, min_samples_split=10 ............................\n",
      "[CV]  max_depth=None, min_samples_split=10, score=0.792, total=   0.2s\n",
      "[CV] max_depth=None, min_samples_split=10 ............................\n",
      "[CV]  max_depth=None, min_samples_split=10, score=0.790, total=   0.1s\n",
      "[CV] max_depth=None, min_samples_split=20 ............................\n",
      "[CV]  max_depth=None, min_samples_split=20, score=0.796, total=   0.1s\n",
      "[CV] max_depth=None, min_samples_split=20 ............................\n",
      "[CV]  max_depth=None, min_samples_split=20, score=0.793, total=   0.1s\n",
      "[CV] max_depth=None, min_samples_split=20 ............................\n",
      "[CV]  max_depth=None, min_samples_split=20, score=0.792, total=   0.1s\n",
      "[CV] max_depth=None, min_samples_split=20 ............................\n",
      "[CV]  max_depth=None, min_samples_split=20, score=0.799, total=   0.1s\n",
      "[CV] max_depth=None, min_samples_split=20 ............................\n",
      "[CV]  max_depth=None, min_samples_split=20, score=0.802, total=   0.1s\n",
      "[CV] max_depth=None, min_samples_split=50 ............................\n",
      "[CV]  max_depth=None, min_samples_split=50, score=0.819, total=   0.1s\n",
      "[CV] max_depth=None, min_samples_split=50 ............................\n",
      "[CV]  max_depth=None, min_samples_split=50, score=0.799, total=   0.1s\n",
      "[CV] max_depth=None, min_samples_split=50 ............................\n",
      "[CV]  max_depth=None, min_samples_split=50, score=0.816, total=   0.1s\n",
      "[CV] max_depth=None, min_samples_split=50 ............................\n",
      "[CV]  max_depth=None, min_samples_split=50, score=0.812, total=   0.1s\n",
      "[CV] max_depth=None, min_samples_split=50 ............................\n",
      "[CV]  max_depth=None, min_samples_split=50, score=0.812, total=   0.1s\n"
     ]
    },
    {
     "name": "stderr",
     "output_type": "stream",
     "text": [
      "[Parallel(n_jobs=1)]: Done 125 out of 125 | elapsed:   11.7s finished\n"
     ]
    },
    {
     "data": {
      "text/plain": [
       "GridSearchCV(cv=5, error_score=nan,\n",
       "             estimator=DecisionTreeClassifier(ccp_alpha=0.0, class_weight=None,\n",
       "                                              criterion='gini', max_depth=None,\n",
       "                                              max_features=None,\n",
       "                                              max_leaf_nodes=None,\n",
       "                                              min_impurity_decrease=0.0,\n",
       "                                              min_impurity_split=None,\n",
       "                                              min_samples_leaf=1,\n",
       "                                              min_samples_split=2,\n",
       "                                              min_weight_fraction_leaf=0.0,\n",
       "                                              presort='deprecated',\n",
       "                                              random_state=None,\n",
       "                                              splitter='best'),\n",
       "             iid='deprecated', n_jobs=None,\n",
       "             param_grid={'max_depth': [5, 10, 20, 50, None],\n",
       "                         'min_samples_split': [2, 5, 10, 20, 50]},\n",
       "             pre_dispatch='2*n_jobs', refit=True, return_train_score=False,\n",
       "             scoring=None, verbose=10)"
      ]
     },
     "execution_count": 251,
     "metadata": {},
     "output_type": "execute_result"
    }
   ],
   "source": [
    "dt_clf = GridSearchCV(dt, parameters, verbose=10, cv=5)\n",
    "dt_clf.fit(X_train, y_train)"
   ]
  },
  {
   "cell_type": "code",
   "execution_count": 252,
   "metadata": {},
   "outputs": [
    {
     "name": "stdout",
     "output_type": "stream",
     "text": [
      "Accuracy: 0.840317100792752\n",
      "Balanced accuracy: 0.8335264350139241\n",
      "Confusion matrix:\n"
     ]
    },
    {
     "data": {
      "image/png": "[encoded data removed]",
      "text/plain": [
       "<Figure size 432x288 with 2 Axes>"
      ]
     },
     "metadata": {
      "needs_background": "light"
     },
     "output_type": "display_data"
    }
   ],
   "source": [
    "print_metrics(dt_clf)"
   ]
  },
  {
   "cell_type": "markdown",
   "metadata": {},
   "source": [
    "### Random Forest"
   ]
  },
  {
   "cell_type": "code",
   "execution_count": 253,
   "metadata": {},
   "outputs": [],
   "source": [
    "rf = RandomForestClassifier()"
   ]
  },
  {
   "cell_type": "code",
   "execution_count": 254,
   "metadata": {},
   "outputs": [
    {
     "data": {
      "text/plain": [
       "RandomForestClassifier(bootstrap=True, ccp_alpha=0.0, class_weight=None,\n",
       "                       criterion='gini', max_depth=None, max_features='auto',\n",
       "                       max_leaf_nodes=None, max_samples=None,\n",
       "                       min_impurity_decrease=0.0, min_impurity_split=None,\n",
       "                       min_samples_leaf=1, min_samples_split=2,\n",
       "                       min_weight_fraction_leaf=0.0, n_estimators=100,\n",
       "                       n_jobs=None, oob_score=False, random_state=None,\n",
       "                       verbose=0, warm_start=False)"
      ]
     },
     "execution_count": 254,
     "metadata": {},
     "output_type": "execute_result"
    }
   ],
   "source": [
    "rf.fit(X_train, y_train)"
   ]
  },
  {
   "cell_type": "code",
   "execution_count": 255,
   "metadata": {},
   "outputs": [
    {
     "name": "stdout",
     "output_type": "stream",
     "text": [
      "Accuracy: 0.8380520951302378\n",
      "Balanced accuracy: 0.8314897751361237\n",
      "Confusion matrix:\n"
     ]
    },
    {
     "data": {
      "image/png": "[encoded data removed]",
      "text/plain": [
       "<Figure size 432x288 with 2 Axes>"
      ]
     },
     "metadata": {
      "needs_background": "light"
     },
     "output_type": "display_data"
    }
   ],
   "source": [
    "print_metrics(rf)"
   ]
  },
  {
   "cell_type": "markdown",
   "metadata": {},
   "source": [
    "### Random Forest with hyperparameter search"
   ]
  },
  {
   "cell_type": "code",
   "execution_count": 256,
   "metadata": {},
   "outputs": [],
   "source": [
    "parameters = {\n",
    "    'max_depth':[5,10,20,50,None],\n",
    "    'min_samples_split':[2,5,10,20,50],\n",
    "    'n_estimators': [10,50,100]\n",
    "}"
   ]
  },
  {
   "cell_type": "code",
   "execution_count": 257,
   "metadata": {},
   "outputs": [],
   "source": [
    "reg_rf = GridSearchCV(RandomForestClassifier(random_state=234), parameters, verbose=10, n_jobs=-1, cv=5)"
   ]
  },
  {
   "cell_type": "code",
   "execution_count": 258,
   "metadata": {},
   "outputs": [
    {
     "name": "stdout",
     "output_type": "stream",
     "text": [
      "Fitting 5 folds for each of 75 candidates, totalling 375 fits\n"
     ]
    },
    {
     "name": "stderr",
     "output_type": "stream",
     "text": [
      "[Parallel(n_jobs=-1)]: Using backend LokyBackend with 4 concurrent workers.\n",
      "[Parallel(n_jobs=-1)]: Done   5 tasks      | elapsed:    1.8s\n",
      "[Parallel(n_jobs=-1)]: Done  10 tasks      | elapsed:    2.8s\n",
      "[Parallel(n_jobs=-1)]: Done  17 tasks      | elapsed:    3.8s\n",
      "[Parallel(n_jobs=-1)]: Done  24 tasks      | elapsed:    4.6s\n",
      "[Parallel(n_jobs=-1)]: Done  33 tasks      | elapsed:    5.7s\n",
      "[Parallel(n_jobs=-1)]: Done  42 tasks      | elapsed:    7.1s\n",
      "[Parallel(n_jobs=-1)]: Done  53 tasks      | elapsed:    8.0s\n",
      "[Parallel(n_jobs=-1)]: Done  64 tasks      | elapsed:    9.3s\n",
      "[Parallel(n_jobs=-1)]: Done  77 tasks      | elapsed:   11.9s\n",
      "[Parallel(n_jobs=-1)]: Done  90 tasks      | elapsed:   14.8s\n",
      "[Parallel(n_jobs=-1)]: Done 105 tasks      | elapsed:   18.6s\n",
      "[Parallel(n_jobs=-1)]: Done 120 tasks      | elapsed:   22.2s\n",
      "[Parallel(n_jobs=-1)]: Done 137 tasks      | elapsed:   25.6s\n",
      "[Parallel(n_jobs=-1)]: Done 154 tasks      | elapsed:   29.0s\n",
      "[Parallel(n_jobs=-1)]: Done 173 tasks      | elapsed:   33.8s\n",
      "[Parallel(n_jobs=-1)]: Done 192 tasks      | elapsed:   38.8s\n",
      "[Parallel(n_jobs=-1)]: Done 213 tasks      | elapsed:   42.7s\n",
      "[Parallel(n_jobs=-1)]: Done 234 tasks      | elapsed:   47.4s\n",
      "[Parallel(n_jobs=-1)]: Done 257 tasks      | elapsed:   52.6s\n",
      "[Parallel(n_jobs=-1)]: Done 280 tasks      | elapsed:   57.8s\n",
      "[Parallel(n_jobs=-1)]: Done 305 tasks      | elapsed:  1.0min\n",
      "[Parallel(n_jobs=-1)]: Done 330 tasks      | elapsed:  1.1min\n",
      "[Parallel(n_jobs=-1)]: Done 357 tasks      | elapsed:  1.2min\n",
      "[Parallel(n_jobs=-1)]: Done 375 out of 375 | elapsed:  1.3min finished\n"
     ]
    },
    {
     "data": {
      "text/plain": [
       "GridSearchCV(cv=5, error_score=nan,\n",
       "             estimator=RandomForestClassifier(bootstrap=True, ccp_alpha=0.0,\n",
       "                                              class_weight=None,\n",
       "                                              criterion='gini', max_depth=None,\n",
       "                                              max_features='auto',\n",
       "                                              max_leaf_nodes=None,\n",
       "                                              max_samples=None,\n",
       "                                              min_impurity_decrease=0.0,\n",
       "                                              min_impurity_split=None,\n",
       "                                              min_samples_leaf=1,\n",
       "                                              min_samples_split=2,\n",
       "                                              min_weight_fraction_leaf=0.0,\n",
       "                                              n_estimators=100, n_jobs=None,\n",
       "                                              oob_score=False, random_state=234,\n",
       "                                              verbose=0, warm_start=False),\n",
       "             iid='deprecated', n_jobs=-1,\n",
       "             param_grid={'max_depth': [5, 10, 20, 50, None],\n",
       "                         'min_samples_split': [2, 5, 10, 20, 50],\n",
       "                         'n_estimators': [10, 50, 100]},\n",
       "             pre_dispatch='2*n_jobs', refit=True, return_train_score=False,\n",
       "             scoring=None, verbose=10)"
      ]
     },
     "execution_count": 258,
     "metadata": {},
     "output_type": "execute_result"
    }
   ],
   "source": [
    "reg_rf.fit(X_train, y_train)"
   ]
  },
  {
   "cell_type": "code",
   "execution_count": 259,
   "metadata": {},
   "outputs": [
    {
     "name": "stdout",
     "output_type": "stream",
     "text": [
      "Accuracy: 0.8459796149490374\n",
      "Balanced accuracy: 0.8411898873602395\n",
      "Confusion matrix:\n"
     ]
    },
    {
     "data": {
      "image/png": "[encoded data removed]",
      "text/plain": [
       "<Figure size 432x288 with 2 Axes>"
      ]
     },
     "metadata": {
      "needs_background": "light"
     },
     "output_type": "display_data"
    }
   ],
   "source": [
    "print_metrics(reg_rf)"
   ]
  },
  {
   "cell_type": "markdown",
   "metadata": {},
   "source": [
    "## Use model attributes"
   ]
  },
  {
   "cell_type": "markdown",
   "metadata": {},
   "source": [
    "Since they are easier to understand and are in this case equally good, use the decision tree we got via cross validation. Check for overfitting:"
   ]
  },
  {
   "cell_type": "code",
   "execution_count": 260,
   "metadata": {},
   "outputs": [
    {
     "data": {
      "text/plain": [
       "0.8564552661381654"
      ]
     },
     "execution_count": 260,
     "metadata": {},
     "output_type": "execute_result"
    }
   ],
   "source": [
    "accuracy_score(y_train, dt_clf.predict(X_train))"
   ]
  },
  {
   "cell_type": "markdown",
   "metadata": {},
   "source": [
    "Seems like there is not much overfitting present."
   ]
  },
  {
   "cell_type": "code",
   "execution_count": 261,
   "metadata": {},
   "outputs": [],
   "source": [
    "feature_importances = pd.DataFrame(zip(X.columns, dt_clf.best_estimator_.feature_importances_), columns = ['feature','importance'])"
   ]
  },
  {
   "cell_type": "code",
   "execution_count": 262,
   "metadata": {},
   "outputs": [
    {
     "data": {
      "text/html": [
       "<div>\n",
       "<style scoped>\n",
       "    .dataframe tbody tr th:only-of-type {\n",
       "        vertical-align: middle;\n",
       "    }\n",
       "\n",
       "    .dataframe tbody tr th {\n",
       "        vertical-align: top;\n",
       "    }\n",
       "\n",
       "    .dataframe thead th {\n",
       "        text-align: right;\n",
       "    }\n",
       "</style>\n",
       "<table border=\"1\" class=\"dataframe\">\n",
       "  <thead>\n",
       "    <tr style=\"text-align: right;\">\n",
       "      <th></th>\n",
       "      <th>feature</th>\n",
       "      <th>importance</th>\n",
       "    </tr>\n",
       "  </thead>\n",
       "  <tbody>\n",
       "    <tr>\n",
       "      <th>21</th>\n",
       "      <td>number_of_reviews_ltm</td>\n",
       "      <td>0.420248</td>\n",
       "    </tr>\n",
       "    <tr>\n",
       "      <th>24</th>\n",
       "      <td>review_scores_rating</td>\n",
       "      <td>0.389669</td>\n",
       "    </tr>\n",
       "    <tr>\n",
       "      <th>22</th>\n",
       "      <td>first_review</td>\n",
       "      <td>0.069699</td>\n",
       "    </tr>\n",
       "    <tr>\n",
       "      <th>20</th>\n",
       "      <td>number_of_reviews</td>\n",
       "      <td>0.054623</td>\n",
       "    </tr>\n",
       "    <tr>\n",
       "      <th>2</th>\n",
       "      <td>host_acceptance_rate</td>\n",
       "      <td>0.019968</td>\n",
       "    </tr>\n",
       "    <tr>\n",
       "      <th>4</th>\n",
       "      <td>host_total_listings_count</td>\n",
       "      <td>0.019568</td>\n",
       "    </tr>\n",
       "    <tr>\n",
       "      <th>23</th>\n",
       "      <td>last_review</td>\n",
       "      <td>0.004508</td>\n",
       "    </tr>\n",
       "    <tr>\n",
       "      <th>0</th>\n",
       "      <td>host_since</td>\n",
       "      <td>0.003582</td>\n",
       "    </tr>\n",
       "    <tr>\n",
       "      <th>40</th>\n",
       "      <td>reviews_per_month</td>\n",
       "      <td>0.003351</td>\n",
       "    </tr>\n",
       "    <tr>\n",
       "      <th>3</th>\n",
       "      <td>host_listings_count</td>\n",
       "      <td>0.003333</td>\n",
       "    </tr>\n",
       "    <tr>\n",
       "      <th>65</th>\n",
       "      <td>amenities_\"Baby monitor\"</td>\n",
       "      <td>0.001974</td>\n",
       "    </tr>\n",
       "    <tr>\n",
       "      <th>261</th>\n",
       "      <td>property_type_Bed and breakfast</td>\n",
       "      <td>0.001960</td>\n",
       "    </tr>\n",
       "    <tr>\n",
       "      <th>188</th>\n",
       "      <td>amenities_\"Pets allowed\"</td>\n",
       "      <td>0.001798</td>\n",
       "    </tr>\n",
       "    <tr>\n",
       "      <th>253</th>\n",
       "      <td>zipcode_1210</td>\n",
       "      <td>0.001729</td>\n",
       "    </tr>\n",
       "    <tr>\n",
       "      <th>203</th>\n",
       "      <td>amenities_\"Air conditioning\"</td>\n",
       "      <td>0.001541</td>\n",
       "    </tr>\n",
       "  </tbody>\n",
       "</table>\n",
       "</div>"
      ],
      "text/plain": [
       "                             feature  importance\n",
       "21             number_of_reviews_ltm    0.420248\n",
       "24              review_scores_rating    0.389669\n",
       "22                      first_review    0.069699\n",
       "20                 number_of_reviews    0.054623\n",
       "2               host_acceptance_rate    0.019968\n",
       "4          host_total_listings_count    0.019568\n",
       "23                       last_review    0.004508\n",
       "0                         host_since    0.003582\n",
       "40                 reviews_per_month    0.003351\n",
       "3                host_listings_count    0.003333\n",
       "65          amenities_\"Baby monitor\"    0.001974\n",
       "261  property_type_Bed and breakfast    0.001960\n",
       "188         amenities_\"Pets allowed\"    0.001798\n",
       "253                     zipcode_1210    0.001729\n",
       "203     amenities_\"Air conditioning\"    0.001541"
      ]
     },
     "execution_count": 262,
     "metadata": {},
     "output_type": "execute_result"
    }
   ],
   "source": [
    "feature_importances.sort_values('importance',ascending=False).head(15)"
   ]
  },
  {
   "cell_type": "code",
   "execution_count": 278,
   "metadata": {},
   "outputs": [
    {
     "data": {
      "image/png": "[encoded data removed]",
      "text/plain": [
       "<Figure size 1440x720 with 1 Axes>"
      ]
     },
     "metadata": {
      "needs_background": "light"
     },
     "output_type": "display_data"
    }
   ],
   "source": [
    "plt.figure(figsize=(20,10))\n",
    "sns.barplot(x='feature',y='importance',data=feature_importances[feature_importances['importance']>0.01].sort_values('importance',ascending=False))\n",
    "plt.xticks(rotation=60)\n",
    "plt.ylabel(\"Relative importance\")\n",
    "plt.xlabel('Feature')\n",
    "plt.title('Relative importance of different features for predicting whether somebody is a superhost or not');"
   ]
  },
  {
   "cell_type": "markdown",
   "metadata": {},
   "source": [
    "So it seems that the number the rating and the number of reviews and the date of the first reviews and the rates with which the host accepts and the responds are the most important factors. Of course there is a strong correlation between these and other features such as host_since and others. To clearer isolate the factors influencing whether somebody is a superhost or not, "
   ]
  },
  {
   "cell_type": "code",
   "execution_count": 264,
   "metadata": {},
   "outputs": [
    {
     "data": {
      "image/png": "[encoded data removed]",
      "text/plain": [
       "<Figure size 1440x720 with 1 Axes>"
      ]
     },
     "metadata": {
      "needs_background": "light"
     },
     "output_type": "display_data"
    }
   ],
   "source": [
    "plt.figure(figsize=(20,10))\n",
    "plot_tree(dt_clf.best_estimator_,fontsize=10);"
   ]
  },
  {
   "cell_type": "code",
   "execution_count": null,
   "metadata": {},
   "outputs": [],
   "source": []
  }
 ],
 "metadata": {
  "kernelspec": {
   "display_name": "Python 3",
   "language": "python",
   "name": "python3"
  },
  "language_info": {
   "codemirror_mode": {
    "name": "ipython",
    "version": 3
   },
   "file_extension": ".py",
   "mimetype": "text/x-python",
   "name": "python",
   "nbconvert_exporter": "python",
   "pygments_lexer": "ipython3",
   "version": "3.7.0"
  }
 },
 "nbformat": 4,
 "nbformat_minor": 4
}
